{
 "cells": [
  {
   "cell_type": "markdown",
   "id": "56f5ad17",
   "metadata": {},
   "source": [
    "# Pandas basic\n",
    "- python에서 R만큼의 강력한 데이터 핸들링 성능을 제공하는 모듈\n",
    "- 단일 프로세스에서는 최대 효율\n",
    "- 코딩 가능하고 응용 가능한 엑셀로 받아들여도 됨\n",
    "- 누군가 스테로이드를 맞은 엑셀로 표현함"
   ]
  },
  {
   "cell_type": "markdown",
   "id": "d97e5bd4",
   "metadata": {},
   "source": [
    "# 01. Analysis Seoul CCTV"
   ]
  },
  {
   "cell_type": "code",
   "execution_count": 73,
   "id": "5118cbfe",
   "metadata": {},
   "outputs": [],
   "source": [
    "import pandas as pd\n",
    "import numpy as np"
   ]
  },
  {
   "cell_type": "code",
   "execution_count": 74,
   "id": "fdc5fdc1",
   "metadata": {},
   "outputs": [],
   "source": [
    "pd.Series([1,3,5,7])"
   ]
  },
  {
   "cell_type": "code",
   "execution_count": 75,
   "id": "97ab6e84",
   "metadata": {},
   "outputs": [
    {
     "ename": "NameError",
     "evalue": "name 'float64' is not defined",
     "output_type": "error",
     "traceback": [
      "\u001b[1;31m---------------------------------------------------------------------------\u001b[0m",
      "\u001b[1;31mNameError\u001b[0m                                 Traceback (most recent call last)",
      "Cell \u001b[1;32mIn[75], line 1\u001b[0m\n\u001b[1;32m----> 1\u001b[0m pd\u001b[38;5;241m.\u001b[39mSeries([\u001b[38;5;241m1\u001b[39m,\u001b[38;5;241m3\u001b[39m,\u001b[38;5;241m5\u001b[39m,\u001b[38;5;241m7\u001b[39m], dtype \u001b[38;5;241m=\u001b[39m \u001b[43mfloat64\u001b[49m)\n",
      "\u001b[1;31mNameError\u001b[0m: name 'float64' is not defined"
     ]
    }
   ],
   "source": [
    "pd.Series([1,3,5,7], dtype = float64) #에러"
   ]
  },
  {
   "cell_type": "markdown",
   "id": "3b007c53",
   "metadata": {},
   "source": [
    "## 구글링으로 pandas 공식문서에 문법 확인"
   ]
  },
  {
   "cell_type": "code",
   "execution_count": 76,
   "id": "406eb5c4",
   "metadata": {},
   "outputs": [
    {
     "data": {
      "text/plain": [
       "0    1.0\n",
       "1    3.0\n",
       "2    5.0\n",
       "3    7.0\n",
       "dtype: float64"
      ]
     },
     "execution_count": 76,
     "metadata": {},
     "output_type": "execute_result"
    }
   ],
   "source": [
    "pd.Series([1,3,5,7], dtype = np.float64) "
   ]
  },
  {
   "cell_type": "code",
   "execution_count": 77,
   "id": "f14cc45b",
   "metadata": {},
   "outputs": [
    {
     "data": {
      "text/plain": [
       "0    1\n",
       "1    3\n",
       "2    5\n",
       "3    7\n",
       "dtype: object"
      ]
     },
     "execution_count": 77,
     "metadata": {},
     "output_type": "execute_result"
    }
   ],
   "source": [
    "pd.Series([1,3,5,7], dtype = str)"
   ]
  },
  {
   "cell_type": "code",
   "execution_count": 78,
   "id": "ee8be2d4",
   "metadata": {},
   "outputs": [
    {
     "data": {
      "text/plain": [
       "0    1\n",
       "1    2\n",
       "2    3\n",
       "dtype: int32"
      ]
     },
     "execution_count": 78,
     "metadata": {},
     "output_type": "execute_result"
    }
   ],
   "source": [
    "pd.Series(np.array([1,2,3]))"
   ]
  },
  {
   "cell_type": "code",
   "execution_count": 79,
   "id": "f56bca83",
   "metadata": {},
   "outputs": [
    {
     "data": {
      "text/plain": [
       "Key    Value\n",
       "dtype: object"
      ]
     },
     "execution_count": 79,
     "metadata": {},
     "output_type": "execute_result"
    }
   ],
   "source": [
    "pd.Series({\"Key\" : \"Value\"})"
   ]
  },
  {
   "cell_type": "code",
   "execution_count": 80,
   "id": "b8d40744",
   "metadata": {},
   "outputs": [
    {
     "data": {
      "text/plain": [
       "0    1\n",
       "1    2\n",
       "2    3\n",
       "3    4\n",
       "4    5\n",
       "dtype: object"
      ]
     },
     "execution_count": 80,
     "metadata": {},
     "output_type": "execute_result"
    }
   ],
   "source": [
    "data = pd.Series([1,2,3,4,\"5\"])\n",
    "data"
   ]
  },
  {
   "cell_type": "code",
   "execution_count": 82,
   "id": "fc71758d",
   "metadata": {},
   "outputs": [
    {
     "ename": "TypeError",
     "evalue": "not all arguments converted during string formatting",
     "output_type": "error",
     "traceback": [
      "\u001b[1;31m---------------------------------------------------------------------------\u001b[0m",
      "\u001b[1;31mTypeError\u001b[0m                                 Traceback (most recent call last)",
      "File \u001b[1;32m~\\anaconda3\\envs\\ds_study\\lib\\site-packages\\pandas\\core\\ops\\array_ops.py:165\u001b[0m, in \u001b[0;36m_na_arithmetic_op\u001b[1;34m(left, right, op, is_cmp)\u001b[0m\n\u001b[0;32m    164\u001b[0m \u001b[38;5;28;01mtry\u001b[39;00m:\n\u001b[1;32m--> 165\u001b[0m     result \u001b[38;5;241m=\u001b[39m \u001b[43mfunc\u001b[49m\u001b[43m(\u001b[49m\u001b[43mleft\u001b[49m\u001b[43m,\u001b[49m\u001b[43m \u001b[49m\u001b[43mright\u001b[49m\u001b[43m)\u001b[49m\n\u001b[0;32m    166\u001b[0m \u001b[38;5;28;01mexcept\u001b[39;00m \u001b[38;5;167;01mTypeError\u001b[39;00m:\n",
      "File \u001b[1;32m~\\anaconda3\\envs\\ds_study\\lib\\site-packages\\pandas\\core\\computation\\expressions.py:242\u001b[0m, in \u001b[0;36mevaluate\u001b[1;34m(op, a, b, use_numexpr)\u001b[0m\n\u001b[0;32m    241\u001b[0m         \u001b[38;5;28;01mreturn\u001b[39;00m _evaluate(op, op_str, a, b)  \u001b[38;5;66;03m# type: ignore[misc]\u001b[39;00m\n\u001b[1;32m--> 242\u001b[0m \u001b[38;5;28;01mreturn\u001b[39;00m \u001b[43m_evaluate_standard\u001b[49m\u001b[43m(\u001b[49m\u001b[43mop\u001b[49m\u001b[43m,\u001b[49m\u001b[43m \u001b[49m\u001b[43mop_str\u001b[49m\u001b[43m,\u001b[49m\u001b[43m \u001b[49m\u001b[43ma\u001b[49m\u001b[43m,\u001b[49m\u001b[43m \u001b[49m\u001b[43mb\u001b[49m\u001b[43m)\u001b[49m\n",
      "File \u001b[1;32m~\\anaconda3\\envs\\ds_study\\lib\\site-packages\\pandas\\core\\computation\\expressions.py:70\u001b[0m, in \u001b[0;36m_evaluate_standard\u001b[1;34m(op, op_str, a, b)\u001b[0m\n\u001b[0;32m     69\u001b[0m     _store_test_result(\u001b[38;5;28;01mFalse\u001b[39;00m)\n\u001b[1;32m---> 70\u001b[0m \u001b[38;5;28;01mreturn\u001b[39;00m \u001b[43mop\u001b[49m\u001b[43m(\u001b[49m\u001b[43ma\u001b[49m\u001b[43m,\u001b[49m\u001b[43m \u001b[49m\u001b[43mb\u001b[49m\u001b[43m)\u001b[49m\n",
      "\u001b[1;31mTypeError\u001b[0m: not all arguments converted during string formatting",
      "\nDuring handling of the above exception, another exception occurred:\n",
      "\u001b[1;31mTypeError\u001b[0m                                 Traceback (most recent call last)",
      "Cell \u001b[1;32mIn[82], line 1\u001b[0m\n\u001b[1;32m----> 1\u001b[0m \u001b[43mdata\u001b[49m\u001b[43m \u001b[49m\u001b[38;5;241;43m%\u001b[39;49m\u001b[43m \u001b[49m\u001b[38;5;241;43m2\u001b[39;49m\n",
      "File \u001b[1;32m~\\anaconda3\\envs\\ds_study\\lib\\site-packages\\pandas\\core\\ops\\common.py:72\u001b[0m, in \u001b[0;36m_unpack_zerodim_and_defer.<locals>.new_method\u001b[1;34m(self, other)\u001b[0m\n\u001b[0;32m     68\u001b[0m             \u001b[38;5;28;01mreturn\u001b[39;00m \u001b[38;5;28mNotImplemented\u001b[39m\n\u001b[0;32m     70\u001b[0m other \u001b[38;5;241m=\u001b[39m item_from_zerodim(other)\n\u001b[1;32m---> 72\u001b[0m \u001b[38;5;28;01mreturn\u001b[39;00m \u001b[43mmethod\u001b[49m\u001b[43m(\u001b[49m\u001b[38;5;28;43mself\u001b[39;49m\u001b[43m,\u001b[49m\u001b[43m \u001b[49m\u001b[43mother\u001b[49m\u001b[43m)\u001b[49m\n",
      "File \u001b[1;32m~\\anaconda3\\envs\\ds_study\\lib\\site-packages\\pandas\\core\\arraylike.py:142\u001b[0m, in \u001b[0;36mOpsMixin.__mod__\u001b[1;34m(self, other)\u001b[0m\n\u001b[0;32m    140\u001b[0m \u001b[38;5;129m@unpack_zerodim_and_defer\u001b[39m(\u001b[38;5;124m\"\u001b[39m\u001b[38;5;124m__mod__\u001b[39m\u001b[38;5;124m\"\u001b[39m)\n\u001b[0;32m    141\u001b[0m \u001b[38;5;28;01mdef\u001b[39;00m \u001b[38;5;21m__mod__\u001b[39m(\u001b[38;5;28mself\u001b[39m, other):\n\u001b[1;32m--> 142\u001b[0m     \u001b[38;5;28;01mreturn\u001b[39;00m \u001b[38;5;28;43mself\u001b[39;49m\u001b[38;5;241;43m.\u001b[39;49m\u001b[43m_arith_method\u001b[49m\u001b[43m(\u001b[49m\u001b[43mother\u001b[49m\u001b[43m,\u001b[49m\u001b[43m \u001b[49m\u001b[43moperator\u001b[49m\u001b[38;5;241;43m.\u001b[39;49m\u001b[43mmod\u001b[49m\u001b[43m)\u001b[49m\n",
      "File \u001b[1;32m~\\anaconda3\\envs\\ds_study\\lib\\site-packages\\pandas\\core\\series.py:6259\u001b[0m, in \u001b[0;36mSeries._arith_method\u001b[1;34m(self, other, op)\u001b[0m\n\u001b[0;32m   6257\u001b[0m \u001b[38;5;28;01mdef\u001b[39;00m \u001b[38;5;21m_arith_method\u001b[39m(\u001b[38;5;28mself\u001b[39m, other, op):\n\u001b[0;32m   6258\u001b[0m     \u001b[38;5;28mself\u001b[39m, other \u001b[38;5;241m=\u001b[39m ops\u001b[38;5;241m.\u001b[39malign_method_SERIES(\u001b[38;5;28mself\u001b[39m, other)\n\u001b[1;32m-> 6259\u001b[0m     \u001b[38;5;28;01mreturn\u001b[39;00m \u001b[43mbase\u001b[49m\u001b[38;5;241;43m.\u001b[39;49m\u001b[43mIndexOpsMixin\u001b[49m\u001b[38;5;241;43m.\u001b[39;49m\u001b[43m_arith_method\u001b[49m\u001b[43m(\u001b[49m\u001b[38;5;28;43mself\u001b[39;49m\u001b[43m,\u001b[49m\u001b[43m \u001b[49m\u001b[43mother\u001b[49m\u001b[43m,\u001b[49m\u001b[43m \u001b[49m\u001b[43mop\u001b[49m\u001b[43m)\u001b[49m\n",
      "File \u001b[1;32m~\\anaconda3\\envs\\ds_study\\lib\\site-packages\\pandas\\core\\base.py:1325\u001b[0m, in \u001b[0;36mIndexOpsMixin._arith_method\u001b[1;34m(self, other, op)\u001b[0m\n\u001b[0;32m   1322\u001b[0m rvalues \u001b[38;5;241m=\u001b[39m ensure_wrapped_if_datetimelike(rvalues)\n\u001b[0;32m   1324\u001b[0m \u001b[38;5;28;01mwith\u001b[39;00m np\u001b[38;5;241m.\u001b[39merrstate(\u001b[38;5;28mall\u001b[39m\u001b[38;5;241m=\u001b[39m\u001b[38;5;124m\"\u001b[39m\u001b[38;5;124mignore\u001b[39m\u001b[38;5;124m\"\u001b[39m):\n\u001b[1;32m-> 1325\u001b[0m     result \u001b[38;5;241m=\u001b[39m \u001b[43mops\u001b[49m\u001b[38;5;241;43m.\u001b[39;49m\u001b[43marithmetic_op\u001b[49m\u001b[43m(\u001b[49m\u001b[43mlvalues\u001b[49m\u001b[43m,\u001b[49m\u001b[43m \u001b[49m\u001b[43mrvalues\u001b[49m\u001b[43m,\u001b[49m\u001b[43m \u001b[49m\u001b[43mop\u001b[49m\u001b[43m)\u001b[49m\n\u001b[0;32m   1327\u001b[0m \u001b[38;5;28;01mreturn\u001b[39;00m \u001b[38;5;28mself\u001b[39m\u001b[38;5;241m.\u001b[39m_construct_result(result, name\u001b[38;5;241m=\u001b[39mres_name)\n",
      "File \u001b[1;32m~\\anaconda3\\envs\\ds_study\\lib\\site-packages\\pandas\\core\\ops\\array_ops.py:226\u001b[0m, in \u001b[0;36marithmetic_op\u001b[1;34m(left, right, op)\u001b[0m\n\u001b[0;32m    222\u001b[0m     _bool_arith_check(op, left, right)\n\u001b[0;32m    224\u001b[0m     \u001b[38;5;66;03m# error: Argument 1 to \"_na_arithmetic_op\" has incompatible type\u001b[39;00m\n\u001b[0;32m    225\u001b[0m     \u001b[38;5;66;03m# \"Union[ExtensionArray, ndarray[Any, Any]]\"; expected \"ndarray[Any, Any]\"\u001b[39;00m\n\u001b[1;32m--> 226\u001b[0m     res_values \u001b[38;5;241m=\u001b[39m \u001b[43m_na_arithmetic_op\u001b[49m\u001b[43m(\u001b[49m\u001b[43mleft\u001b[49m\u001b[43m,\u001b[49m\u001b[43m \u001b[49m\u001b[43mright\u001b[49m\u001b[43m,\u001b[49m\u001b[43m \u001b[49m\u001b[43mop\u001b[49m\u001b[43m)\u001b[49m  \u001b[38;5;66;03m# type: ignore[arg-type]\u001b[39;00m\n\u001b[0;32m    228\u001b[0m \u001b[38;5;28;01mreturn\u001b[39;00m res_values\n",
      "File \u001b[1;32m~\\anaconda3\\envs\\ds_study\\lib\\site-packages\\pandas\\core\\ops\\array_ops.py:172\u001b[0m, in \u001b[0;36m_na_arithmetic_op\u001b[1;34m(left, right, op, is_cmp)\u001b[0m\n\u001b[0;32m    166\u001b[0m \u001b[38;5;28;01mexcept\u001b[39;00m \u001b[38;5;167;01mTypeError\u001b[39;00m:\n\u001b[0;32m    167\u001b[0m     \u001b[38;5;28;01mif\u001b[39;00m \u001b[38;5;129;01mnot\u001b[39;00m is_cmp \u001b[38;5;129;01mand\u001b[39;00m (is_object_dtype(left\u001b[38;5;241m.\u001b[39mdtype) \u001b[38;5;129;01mor\u001b[39;00m is_object_dtype(right)):\n\u001b[0;32m    168\u001b[0m         \u001b[38;5;66;03m# For object dtype, fallback to a masked operation (only operating\u001b[39;00m\n\u001b[0;32m    169\u001b[0m         \u001b[38;5;66;03m#  on the non-missing values)\u001b[39;00m\n\u001b[0;32m    170\u001b[0m         \u001b[38;5;66;03m# Don't do this for comparisons, as that will handle complex numbers\u001b[39;00m\n\u001b[0;32m    171\u001b[0m         \u001b[38;5;66;03m#  incorrectly, see GH#32047\u001b[39;00m\n\u001b[1;32m--> 172\u001b[0m         result \u001b[38;5;241m=\u001b[39m \u001b[43m_masked_arith_op\u001b[49m\u001b[43m(\u001b[49m\u001b[43mleft\u001b[49m\u001b[43m,\u001b[49m\u001b[43m \u001b[49m\u001b[43mright\u001b[49m\u001b[43m,\u001b[49m\u001b[43m \u001b[49m\u001b[43mop\u001b[49m\u001b[43m)\u001b[49m\n\u001b[0;32m    173\u001b[0m     \u001b[38;5;28;01melse\u001b[39;00m:\n\u001b[0;32m    174\u001b[0m         \u001b[38;5;28;01mraise\u001b[39;00m\n",
      "File \u001b[1;32m~\\anaconda3\\envs\\ds_study\\lib\\site-packages\\pandas\\core\\ops\\array_ops.py:129\u001b[0m, in \u001b[0;36m_masked_arith_op\u001b[1;34m(x, y, op)\u001b[0m\n\u001b[0;32m    126\u001b[0m         mask \u001b[38;5;241m=\u001b[39m np\u001b[38;5;241m.\u001b[39mwhere(y \u001b[38;5;241m==\u001b[39m \u001b[38;5;241m1\u001b[39m, \u001b[38;5;28;01mFalse\u001b[39;00m, mask)\n\u001b[0;32m    128\u001b[0m     \u001b[38;5;28;01mif\u001b[39;00m mask\u001b[38;5;241m.\u001b[39many():\n\u001b[1;32m--> 129\u001b[0m         result[mask] \u001b[38;5;241m=\u001b[39m \u001b[43mop\u001b[49m\u001b[43m(\u001b[49m\u001b[43mxrav\u001b[49m\u001b[43m[\u001b[49m\u001b[43mmask\u001b[49m\u001b[43m]\u001b[49m\u001b[43m,\u001b[49m\u001b[43m \u001b[49m\u001b[43my\u001b[49m\u001b[43m)\u001b[49m\n\u001b[0;32m    131\u001b[0m np\u001b[38;5;241m.\u001b[39mputmask(result, \u001b[38;5;241m~\u001b[39mmask, np\u001b[38;5;241m.\u001b[39mnan)\n\u001b[0;32m    132\u001b[0m result \u001b[38;5;241m=\u001b[39m result\u001b[38;5;241m.\u001b[39mreshape(x\u001b[38;5;241m.\u001b[39mshape)  \u001b[38;5;66;03m# 2D compat\u001b[39;00m\n",
      "\u001b[1;31mTypeError\u001b[0m: not all arguments converted during string formatting"
     ]
    }
   ],
   "source": [
    "data % 2"
   ]
  },
  {
   "cell_type": "code",
   "execution_count": 83,
   "id": "7c7a009a",
   "metadata": {},
   "outputs": [
    {
     "data": {
      "text/plain": [
       "0    1\n",
       "1    2\n",
       "2    3\n",
       "3    4\n",
       "dtype: int64"
      ]
     },
     "execution_count": 83,
     "metadata": {},
     "output_type": "execute_result"
    }
   ],
   "source": [
    "data = pd.Series([1,2,3,4])\n",
    "data"
   ]
  },
  {
   "cell_type": "code",
   "execution_count": 84,
   "id": "b81af07f",
   "metadata": {},
   "outputs": [
    {
     "data": {
      "text/plain": [
       "0    1\n",
       "1    0\n",
       "2    1\n",
       "3    0\n",
       "dtype: int64"
      ]
     },
     "execution_count": 84,
     "metadata": {},
     "output_type": "execute_result"
    }
   ],
   "source": [
    "data % 2"
   ]
  },
  {
   "cell_type": "markdown",
   "id": "2ab7d76a",
   "metadata": {},
   "source": [
    "### Series는 한가지 데이터 타입을 가지고, index, value으로 값을 가진다."
   ]
  },
  {
   "cell_type": "markdown",
   "id": "48fa65f7",
   "metadata": {},
   "source": [
    "#### Pandas의 데이터 형을 구성하는 기본은 'Series'이다."
   ]
  },
  {
   "cell_type": "code",
   "execution_count": 85,
   "id": "fde8f2ab",
   "metadata": {},
   "outputs": [
    {
     "data": {
      "text/plain": [
       "0    1.0\n",
       "1    3.0\n",
       "2    5.0\n",
       "3    NaN\n",
       "4    6.0\n",
       "5    8.0\n",
       "dtype: float64"
      ]
     },
     "execution_count": 85,
     "metadata": {},
     "output_type": "execute_result"
    }
   ],
   "source": [
    "s = pd.Series([1,3,5,np.nan, 6, 8])\n",
    "s"
   ]
  },
  {
   "cell_type": "markdown",
   "id": "8c8c91ca",
   "metadata": {},
   "source": [
    "date_range() 함수"
   ]
  },
  {
   "cell_type": "code",
   "execution_count": 86,
   "id": "622a1dbb",
   "metadata": {},
   "outputs": [
    {
     "data": {
      "text/plain": [
       "DatetimeIndex(['2013-01-01', '2013-01-02', '2013-01-03', '2013-01-04',\n",
       "               '2013-01-05', '2013-01-06'],\n",
       "              dtype='datetime64[ns]', freq='D')"
      ]
     },
     "execution_count": 86,
     "metadata": {},
     "output_type": "execute_result"
    }
   ],
   "source": [
    "dates = pd.date_range(\"20130101\", periods = 6)\n",
    "dates"
   ]
  },
  {
   "cell_type": "markdown",
   "id": "a88f6344",
   "metadata": {},
   "source": [
    "#### Pandas에서 가장 많이 사용되는 데이터형은 'DataFrame' 이고\n",
    "#### index(row느낌)와 columns를 지정하면 된다."
   ]
  },
  {
   "cell_type": "code",
   "execution_count": 87,
   "id": "0f97bab5",
   "metadata": {},
   "outputs": [
    {
     "data": {
      "text/html": [
       "<div>\n",
       "<style scoped>\n",
       "    .dataframe tbody tr th:only-of-type {\n",
       "        vertical-align: middle;\n",
       "    }\n",
       "\n",
       "    .dataframe tbody tr th {\n",
       "        vertical-align: top;\n",
       "    }\n",
       "\n",
       "    .dataframe thead th {\n",
       "        text-align: right;\n",
       "    }\n",
       "</style>\n",
       "<table border=\"1\" class=\"dataframe\">\n",
       "  <thead>\n",
       "    <tr style=\"text-align: right;\">\n",
       "      <th></th>\n",
       "      <th>A</th>\n",
       "      <th>B</th>\n",
       "      <th>C</th>\n",
       "      <th>D</th>\n",
       "    </tr>\n",
       "  </thead>\n",
       "  <tbody>\n",
       "    <tr>\n",
       "      <th>2013-01-01</th>\n",
       "      <td>0.048415</td>\n",
       "      <td>-0.115003</td>\n",
       "      <td>-0.309380</td>\n",
       "      <td>-1.720353</td>\n",
       "    </tr>\n",
       "    <tr>\n",
       "      <th>2013-01-02</th>\n",
       "      <td>-0.304148</td>\n",
       "      <td>1.108036</td>\n",
       "      <td>0.729182</td>\n",
       "      <td>0.204243</td>\n",
       "    </tr>\n",
       "    <tr>\n",
       "      <th>2013-01-03</th>\n",
       "      <td>-0.380950</td>\n",
       "      <td>-2.283120</td>\n",
       "      <td>-0.183082</td>\n",
       "      <td>1.198757</td>\n",
       "    </tr>\n",
       "    <tr>\n",
       "      <th>2013-01-04</th>\n",
       "      <td>0.568640</td>\n",
       "      <td>1.902704</td>\n",
       "      <td>-1.021270</td>\n",
       "      <td>0.899716</td>\n",
       "    </tr>\n",
       "    <tr>\n",
       "      <th>2013-01-05</th>\n",
       "      <td>0.960670</td>\n",
       "      <td>-0.755891</td>\n",
       "      <td>0.811971</td>\n",
       "      <td>1.413437</td>\n",
       "    </tr>\n",
       "    <tr>\n",
       "      <th>2013-01-06</th>\n",
       "      <td>-0.724948</td>\n",
       "      <td>-2.687743</td>\n",
       "      <td>2.213685</td>\n",
       "      <td>-0.126405</td>\n",
       "    </tr>\n",
       "  </tbody>\n",
       "</table>\n",
       "</div>"
      ],
      "text/plain": [
       "                   A         B         C         D\n",
       "2013-01-01  0.048415 -0.115003 -0.309380 -1.720353\n",
       "2013-01-02 -0.304148  1.108036  0.729182  0.204243\n",
       "2013-01-03 -0.380950 -2.283120 -0.183082  1.198757\n",
       "2013-01-04  0.568640  1.902704 -1.021270  0.899716\n",
       "2013-01-05  0.960670 -0.755891  0.811971  1.413437\n",
       "2013-01-06 -0.724948 -2.687743  2.213685 -0.126405"
      ]
     },
     "execution_count": 87,
     "metadata": {},
     "output_type": "execute_result"
    }
   ],
   "source": [
    "df = pd.DataFrame(np.random.randn(6, 4), index = dates, columns=[\"A\", \"B\", \"C\", \"D\"])\n",
    "df"
   ]
  },
  {
   "cell_type": "code",
   "execution_count": 88,
   "id": "45647ed8",
   "metadata": {},
   "outputs": [
    {
     "data": {
      "text/html": [
       "<div>\n",
       "<style scoped>\n",
       "    .dataframe tbody tr th:only-of-type {\n",
       "        vertical-align: middle;\n",
       "    }\n",
       "\n",
       "    .dataframe tbody tr th {\n",
       "        vertical-align: top;\n",
       "    }\n",
       "\n",
       "    .dataframe thead th {\n",
       "        text-align: right;\n",
       "    }\n",
       "</style>\n",
       "<table border=\"1\" class=\"dataframe\">\n",
       "  <thead>\n",
       "    <tr style=\"text-align: right;\">\n",
       "      <th></th>\n",
       "      <th>A</th>\n",
       "      <th>B</th>\n",
       "      <th>C</th>\n",
       "      <th>D</th>\n",
       "    </tr>\n",
       "  </thead>\n",
       "  <tbody>\n",
       "    <tr>\n",
       "      <th>2013-01-01</th>\n",
       "      <td>0.048415</td>\n",
       "      <td>-0.115003</td>\n",
       "      <td>-0.309380</td>\n",
       "      <td>-1.720353</td>\n",
       "    </tr>\n",
       "    <tr>\n",
       "      <th>2013-01-02</th>\n",
       "      <td>-0.304148</td>\n",
       "      <td>1.108036</td>\n",
       "      <td>0.729182</td>\n",
       "      <td>0.204243</td>\n",
       "    </tr>\n",
       "    <tr>\n",
       "      <th>2013-01-03</th>\n",
       "      <td>-0.380950</td>\n",
       "      <td>-2.283120</td>\n",
       "      <td>-0.183082</td>\n",
       "      <td>1.198757</td>\n",
       "    </tr>\n",
       "    <tr>\n",
       "      <th>2013-01-04</th>\n",
       "      <td>0.568640</td>\n",
       "      <td>1.902704</td>\n",
       "      <td>-1.021270</td>\n",
       "      <td>0.899716</td>\n",
       "    </tr>\n",
       "    <tr>\n",
       "      <th>2013-01-05</th>\n",
       "      <td>0.960670</td>\n",
       "      <td>-0.755891</td>\n",
       "      <td>0.811971</td>\n",
       "      <td>1.413437</td>\n",
       "    </tr>\n",
       "  </tbody>\n",
       "</table>\n",
       "</div>"
      ],
      "text/plain": [
       "                   A         B         C         D\n",
       "2013-01-01  0.048415 -0.115003 -0.309380 -1.720353\n",
       "2013-01-02 -0.304148  1.108036  0.729182  0.204243\n",
       "2013-01-03 -0.380950 -2.283120 -0.183082  1.198757\n",
       "2013-01-04  0.568640  1.902704 -1.021270  0.899716\n",
       "2013-01-05  0.960670 -0.755891  0.811971  1.413437"
      ]
     },
     "execution_count": 88,
     "metadata": {},
     "output_type": "execute_result"
    }
   ],
   "source": [
    "#함수종류\n",
    "df.head()"
   ]
  },
  {
   "cell_type": "code",
   "execution_count": 89,
   "id": "6d4f1d61",
   "metadata": {},
   "outputs": [
    {
     "data": {
      "text/plain": [
       "DatetimeIndex(['2013-01-01', '2013-01-02', '2013-01-03', '2013-01-04',\n",
       "               '2013-01-05', '2013-01-06'],\n",
       "              dtype='datetime64[ns]', freq='D')"
      ]
     },
     "execution_count": 89,
     "metadata": {},
     "output_type": "execute_result"
    }
   ],
   "source": [
    "df.index #인덱스확인"
   ]
  },
  {
   "cell_type": "code",
   "execution_count": 90,
   "id": "b03aec20",
   "metadata": {},
   "outputs": [
    {
     "data": {
      "text/plain": [
       "Index(['A', 'B', 'C', 'D'], dtype='object')"
      ]
     },
     "execution_count": 90,
     "metadata": {},
     "output_type": "execute_result"
    }
   ],
   "source": [
    "df.columns #컬럼확인"
   ]
  },
  {
   "cell_type": "code",
   "execution_count": 91,
   "id": "34bfd610",
   "metadata": {},
   "outputs": [
    {
     "data": {
      "text/plain": [
       "array([[ 0.04841525, -0.11500318, -0.30937985, -1.72035265],\n",
       "       [-0.3041485 ,  1.10803581,  0.72918163,  0.20424348],\n",
       "       [-0.38094969, -2.28311973, -0.18308235,  1.19875718],\n",
       "       [ 0.56864032,  1.90270425, -1.02126963,  0.89971641],\n",
       "       [ 0.96067045, -0.75589079,  0.8119708 ,  1.41343699],\n",
       "       [-0.72494838, -2.68774297,  2.21368518, -0.12640515]])"
      ]
     },
     "execution_count": 91,
     "metadata": {},
     "output_type": "execute_result"
    }
   ],
   "source": [
    "df.values #값만확인"
   ]
  },
  {
   "cell_type": "code",
   "execution_count": 92,
   "id": "cf0b7a03",
   "metadata": {},
   "outputs": [
    {
     "name": "stdout",
     "output_type": "stream",
     "text": [
      "<class 'pandas.core.frame.DataFrame'>\n",
      "DatetimeIndex: 6 entries, 2013-01-01 to 2013-01-06\n",
      "Freq: D\n",
      "Data columns (total 4 columns):\n",
      " #   Column  Non-Null Count  Dtype  \n",
      "---  ------  --------------  -----  \n",
      " 0   A       6 non-null      float64\n",
      " 1   B       6 non-null      float64\n",
      " 2   C       6 non-null      float64\n",
      " 3   D       6 non-null      float64\n",
      "dtypes: float64(4)\n",
      "memory usage: 240.0 bytes\n"
     ]
    }
   ],
   "source": [
    "df.info() #개괄적으로 DataFrame을 설명"
   ]
  },
  {
   "cell_type": "code",
   "execution_count": 93,
   "id": "14273ed1",
   "metadata": {},
   "outputs": [
    {
     "data": {
      "text/html": [
       "<div>\n",
       "<style scoped>\n",
       "    .dataframe tbody tr th:only-of-type {\n",
       "        vertical-align: middle;\n",
       "    }\n",
       "\n",
       "    .dataframe tbody tr th {\n",
       "        vertical-align: top;\n",
       "    }\n",
       "\n",
       "    .dataframe thead th {\n",
       "        text-align: right;\n",
       "    }\n",
       "</style>\n",
       "<table border=\"1\" class=\"dataframe\">\n",
       "  <thead>\n",
       "    <tr style=\"text-align: right;\">\n",
       "      <th></th>\n",
       "      <th>A</th>\n",
       "      <th>B</th>\n",
       "      <th>C</th>\n",
       "      <th>D</th>\n",
       "    </tr>\n",
       "  </thead>\n",
       "  <tbody>\n",
       "    <tr>\n",
       "      <th>count</th>\n",
       "      <td>6.000000</td>\n",
       "      <td>6.000000</td>\n",
       "      <td>6.000000</td>\n",
       "      <td>6.000000</td>\n",
       "    </tr>\n",
       "    <tr>\n",
       "      <th>mean</th>\n",
       "      <td>0.027947</td>\n",
       "      <td>-0.471836</td>\n",
       "      <td>0.373518</td>\n",
       "      <td>0.311566</td>\n",
       "    </tr>\n",
       "    <tr>\n",
       "      <th>std</th>\n",
       "      <td>0.633573</td>\n",
       "      <td>1.818430</td>\n",
       "      <td>1.133714</td>\n",
       "      <td>1.155784</td>\n",
       "    </tr>\n",
       "    <tr>\n",
       "      <th>min</th>\n",
       "      <td>-0.724948</td>\n",
       "      <td>-2.687743</td>\n",
       "      <td>-1.021270</td>\n",
       "      <td>-1.720353</td>\n",
       "    </tr>\n",
       "    <tr>\n",
       "      <th>25%</th>\n",
       "      <td>-0.361749</td>\n",
       "      <td>-1.901312</td>\n",
       "      <td>-0.277805</td>\n",
       "      <td>-0.043743</td>\n",
       "    </tr>\n",
       "    <tr>\n",
       "      <th>50%</th>\n",
       "      <td>-0.127867</td>\n",
       "      <td>-0.435447</td>\n",
       "      <td>0.273050</td>\n",
       "      <td>0.551980</td>\n",
       "    </tr>\n",
       "    <tr>\n",
       "      <th>75%</th>\n",
       "      <td>0.438584</td>\n",
       "      <td>0.802276</td>\n",
       "      <td>0.791274</td>\n",
       "      <td>1.123997</td>\n",
       "    </tr>\n",
       "    <tr>\n",
       "      <th>max</th>\n",
       "      <td>0.960670</td>\n",
       "      <td>1.902704</td>\n",
       "      <td>2.213685</td>\n",
       "      <td>1.413437</td>\n",
       "    </tr>\n",
       "  </tbody>\n",
       "</table>\n",
       "</div>"
      ],
      "text/plain": [
       "              A         B         C         D\n",
       "count  6.000000  6.000000  6.000000  6.000000\n",
       "mean   0.027947 -0.471836  0.373518  0.311566\n",
       "std    0.633573  1.818430  1.133714  1.155784\n",
       "min   -0.724948 -2.687743 -1.021270 -1.720353\n",
       "25%   -0.361749 -1.901312 -0.277805 -0.043743\n",
       "50%   -0.127867 -0.435447  0.273050  0.551980\n",
       "75%    0.438584  0.802276  0.791274  1.123997\n",
       "max    0.960670  1.902704  2.213685  1.413437"
      ]
     },
     "execution_count": 93,
     "metadata": {},
     "output_type": "execute_result"
    }
   ],
   "source": [
    "#DataFrame 통계적 기본정보를 확인\n",
    "df.describe()"
   ]
  },
  {
   "cell_type": "code",
   "execution_count": 94,
   "id": "d68be85e",
   "metadata": {},
   "outputs": [
    {
     "data": {
      "text/html": [
       "<div>\n",
       "<style scoped>\n",
       "    .dataframe tbody tr th:only-of-type {\n",
       "        vertical-align: middle;\n",
       "    }\n",
       "\n",
       "    .dataframe tbody tr th {\n",
       "        vertical-align: top;\n",
       "    }\n",
       "\n",
       "    .dataframe thead th {\n",
       "        text-align: right;\n",
       "    }\n",
       "</style>\n",
       "<table border=\"1\" class=\"dataframe\">\n",
       "  <thead>\n",
       "    <tr style=\"text-align: right;\">\n",
       "      <th></th>\n",
       "      <th>A</th>\n",
       "      <th>B</th>\n",
       "      <th>C</th>\n",
       "      <th>D</th>\n",
       "    </tr>\n",
       "  </thead>\n",
       "  <tbody>\n",
       "    <tr>\n",
       "      <th>2013-01-04</th>\n",
       "      <td>0.568640</td>\n",
       "      <td>1.902704</td>\n",
       "      <td>-1.021270</td>\n",
       "      <td>0.899716</td>\n",
       "    </tr>\n",
       "    <tr>\n",
       "      <th>2013-01-02</th>\n",
       "      <td>-0.304148</td>\n",
       "      <td>1.108036</td>\n",
       "      <td>0.729182</td>\n",
       "      <td>0.204243</td>\n",
       "    </tr>\n",
       "    <tr>\n",
       "      <th>2013-01-01</th>\n",
       "      <td>0.048415</td>\n",
       "      <td>-0.115003</td>\n",
       "      <td>-0.309380</td>\n",
       "      <td>-1.720353</td>\n",
       "    </tr>\n",
       "    <tr>\n",
       "      <th>2013-01-05</th>\n",
       "      <td>0.960670</td>\n",
       "      <td>-0.755891</td>\n",
       "      <td>0.811971</td>\n",
       "      <td>1.413437</td>\n",
       "    </tr>\n",
       "    <tr>\n",
       "      <th>2013-01-03</th>\n",
       "      <td>-0.380950</td>\n",
       "      <td>-2.283120</td>\n",
       "      <td>-0.183082</td>\n",
       "      <td>1.198757</td>\n",
       "    </tr>\n",
       "    <tr>\n",
       "      <th>2013-01-06</th>\n",
       "      <td>-0.724948</td>\n",
       "      <td>-2.687743</td>\n",
       "      <td>2.213685</td>\n",
       "      <td>-0.126405</td>\n",
       "    </tr>\n",
       "  </tbody>\n",
       "</table>\n",
       "</div>"
      ],
      "text/plain": [
       "                   A         B         C         D\n",
       "2013-01-04  0.568640  1.902704 -1.021270  0.899716\n",
       "2013-01-02 -0.304148  1.108036  0.729182  0.204243\n",
       "2013-01-01  0.048415 -0.115003 -0.309380 -1.720353\n",
       "2013-01-05  0.960670 -0.755891  0.811971  1.413437\n",
       "2013-01-03 -0.380950 -2.283120 -0.183082  1.198757\n",
       "2013-01-06 -0.724948 -2.687743  2.213685 -0.126405"
      ]
     },
     "execution_count": 94,
     "metadata": {},
     "output_type": "execute_result"
    }
   ],
   "source": [
    "#데이터 정렬\n",
    "df.sort_values(by=\"B\", ascending = False)"
   ]
  },
  {
   "cell_type": "code",
   "execution_count": 95,
   "id": "ac401a73",
   "metadata": {},
   "outputs": [
    {
     "data": {
      "text/plain": [
       "2013-01-01    0.048415\n",
       "2013-01-02   -0.304148\n",
       "2013-01-03   -0.380950\n",
       "2013-01-04    0.568640\n",
       "2013-01-05    0.960670\n",
       "2013-01-06   -0.724948\n",
       "Freq: D, Name: A, dtype: float64"
      ]
     },
     "execution_count": 95,
     "metadata": {},
     "output_type": "execute_result"
    }
   ],
   "source": [
    "#특정컬럼만 읽고싶을 때\n",
    "df[\"A\"]"
   ]
  },
  {
   "cell_type": "code",
   "execution_count": 96,
   "id": "7d7f926e",
   "metadata": {},
   "outputs": [
    {
     "data": {
      "text/html": [
       "<div>\n",
       "<style scoped>\n",
       "    .dataframe tbody tr th:only-of-type {\n",
       "        vertical-align: middle;\n",
       "    }\n",
       "\n",
       "    .dataframe tbody tr th {\n",
       "        vertical-align: top;\n",
       "    }\n",
       "\n",
       "    .dataframe thead th {\n",
       "        text-align: right;\n",
       "    }\n",
       "</style>\n",
       "<table border=\"1\" class=\"dataframe\">\n",
       "  <thead>\n",
       "    <tr style=\"text-align: right;\">\n",
       "      <th></th>\n",
       "      <th>A</th>\n",
       "      <th>B</th>\n",
       "      <th>C</th>\n",
       "      <th>D</th>\n",
       "    </tr>\n",
       "  </thead>\n",
       "  <tbody>\n",
       "    <tr>\n",
       "      <th>2013-01-01</th>\n",
       "      <td>0.048415</td>\n",
       "      <td>-0.115003</td>\n",
       "      <td>-0.309380</td>\n",
       "      <td>-1.720353</td>\n",
       "    </tr>\n",
       "    <tr>\n",
       "      <th>2013-01-02</th>\n",
       "      <td>-0.304148</td>\n",
       "      <td>1.108036</td>\n",
       "      <td>0.729182</td>\n",
       "      <td>0.204243</td>\n",
       "    </tr>\n",
       "    <tr>\n",
       "      <th>2013-01-03</th>\n",
       "      <td>-0.380950</td>\n",
       "      <td>-2.283120</td>\n",
       "      <td>-0.183082</td>\n",
       "      <td>1.198757</td>\n",
       "    </tr>\n",
       "  </tbody>\n",
       "</table>\n",
       "</div>"
      ],
      "text/plain": [
       "                   A         B         C         D\n",
       "2013-01-01  0.048415 -0.115003 -0.309380 -1.720353\n",
       "2013-01-02 -0.304148  1.108036  0.729182  0.204243\n",
       "2013-01-03 -0.380950 -2.283120 -0.183082  1.198757"
      ]
     },
     "execution_count": 96,
     "metadata": {},
     "output_type": "execute_result"
    }
   ],
   "source": [
    "#[n:m] n부터 m-1까지\n",
    "df[0:3]"
   ]
  },
  {
   "cell_type": "code",
   "execution_count": 97,
   "id": "9f8514b5",
   "metadata": {},
   "outputs": [
    {
     "data": {
      "text/html": [
       "<div>\n",
       "<style scoped>\n",
       "    .dataframe tbody tr th:only-of-type {\n",
       "        vertical-align: middle;\n",
       "    }\n",
       "\n",
       "    .dataframe tbody tr th {\n",
       "        vertical-align: top;\n",
       "    }\n",
       "\n",
       "    .dataframe thead th {\n",
       "        text-align: right;\n",
       "    }\n",
       "</style>\n",
       "<table border=\"1\" class=\"dataframe\">\n",
       "  <thead>\n",
       "    <tr style=\"text-align: right;\">\n",
       "      <th></th>\n",
       "      <th>A</th>\n",
       "      <th>B</th>\n",
       "      <th>C</th>\n",
       "      <th>D</th>\n",
       "    </tr>\n",
       "  </thead>\n",
       "  <tbody>\n",
       "    <tr>\n",
       "      <th>2013-01-02</th>\n",
       "      <td>-0.304148</td>\n",
       "      <td>1.108036</td>\n",
       "      <td>0.729182</td>\n",
       "      <td>0.204243</td>\n",
       "    </tr>\n",
       "    <tr>\n",
       "      <th>2013-01-03</th>\n",
       "      <td>-0.380950</td>\n",
       "      <td>-2.283120</td>\n",
       "      <td>-0.183082</td>\n",
       "      <td>1.198757</td>\n",
       "    </tr>\n",
       "    <tr>\n",
       "      <th>2013-01-04</th>\n",
       "      <td>0.568640</td>\n",
       "      <td>1.902704</td>\n",
       "      <td>-1.021270</td>\n",
       "      <td>0.899716</td>\n",
       "    </tr>\n",
       "  </tbody>\n",
       "</table>\n",
       "</div>"
      ],
      "text/plain": [
       "                   A         B         C         D\n",
       "2013-01-02 -0.304148  1.108036  0.729182  0.204243\n",
       "2013-01-03 -0.380950 -2.283120 -0.183082  1.198757\n",
       "2013-01-04  0.568640  1.902704 -1.021270  0.899716"
      ]
     },
     "execution_count": 97,
     "metadata": {},
     "output_type": "execute_result"
    }
   ],
   "source": [
    "#인덱스나 컬럼의 이름으로 슬라이스하는 경우는 끝도 포함한다.\n",
    "df[\"20130102\":\"20130104\"]"
   ]
  },
  {
   "cell_type": "code",
   "execution_count": 98,
   "id": "f2deb3ac",
   "metadata": {},
   "outputs": [
    {
     "data": {
      "text/html": [
       "<div>\n",
       "<style scoped>\n",
       "    .dataframe tbody tr th:only-of-type {\n",
       "        vertical-align: middle;\n",
       "    }\n",
       "\n",
       "    .dataframe tbody tr th {\n",
       "        vertical-align: top;\n",
       "    }\n",
       "\n",
       "    .dataframe thead th {\n",
       "        text-align: right;\n",
       "    }\n",
       "</style>\n",
       "<table border=\"1\" class=\"dataframe\">\n",
       "  <thead>\n",
       "    <tr style=\"text-align: right;\">\n",
       "      <th></th>\n",
       "      <th>A</th>\n",
       "      <th>B</th>\n",
       "      <th>C</th>\n",
       "      <th>D</th>\n",
       "    </tr>\n",
       "  </thead>\n",
       "  <tbody>\n",
       "    <tr>\n",
       "      <th>2013-01-01</th>\n",
       "      <td>0.048415</td>\n",
       "      <td>-0.115003</td>\n",
       "      <td>-0.309380</td>\n",
       "      <td>-1.720353</td>\n",
       "    </tr>\n",
       "    <tr>\n",
       "      <th>2013-01-02</th>\n",
       "      <td>-0.304148</td>\n",
       "      <td>1.108036</td>\n",
       "      <td>0.729182</td>\n",
       "      <td>0.204243</td>\n",
       "    </tr>\n",
       "    <tr>\n",
       "      <th>2013-01-03</th>\n",
       "      <td>-0.380950</td>\n",
       "      <td>-2.283120</td>\n",
       "      <td>-0.183082</td>\n",
       "      <td>1.198757</td>\n",
       "    </tr>\n",
       "    <tr>\n",
       "      <th>2013-01-04</th>\n",
       "      <td>0.568640</td>\n",
       "      <td>1.902704</td>\n",
       "      <td>-1.021270</td>\n",
       "      <td>0.899716</td>\n",
       "    </tr>\n",
       "    <tr>\n",
       "      <th>2013-01-05</th>\n",
       "      <td>0.960670</td>\n",
       "      <td>-0.755891</td>\n",
       "      <td>0.811971</td>\n",
       "      <td>1.413437</td>\n",
       "    </tr>\n",
       "    <tr>\n",
       "      <th>2013-01-06</th>\n",
       "      <td>-0.724948</td>\n",
       "      <td>-2.687743</td>\n",
       "      <td>2.213685</td>\n",
       "      <td>-0.126405</td>\n",
       "    </tr>\n",
       "  </tbody>\n",
       "</table>\n",
       "</div>"
      ],
      "text/plain": [
       "                   A         B         C         D\n",
       "2013-01-01  0.048415 -0.115003 -0.309380 -1.720353\n",
       "2013-01-02 -0.304148  1.108036  0.729182  0.204243\n",
       "2013-01-03 -0.380950 -2.283120 -0.183082  1.198757\n",
       "2013-01-04  0.568640  1.902704 -1.021270  0.899716\n",
       "2013-01-05  0.960670 -0.755891  0.811971  1.413437\n",
       "2013-01-06 -0.724948 -2.687743  2.213685 -0.126405"
      ]
     },
     "execution_count": 98,
     "metadata": {},
     "output_type": "execute_result"
    }
   ],
   "source": [
    "#location 함수\n",
    "#콜론만 쓰면 모든 행\n",
    "df.loc[:]"
   ]
  },
  {
   "cell_type": "code",
   "execution_count": 99,
   "id": "024ba786",
   "metadata": {},
   "outputs": [
    {
     "data": {
      "text/html": [
       "<div>\n",
       "<style scoped>\n",
       "    .dataframe tbody tr th:only-of-type {\n",
       "        vertical-align: middle;\n",
       "    }\n",
       "\n",
       "    .dataframe tbody tr th {\n",
       "        vertical-align: top;\n",
       "    }\n",
       "\n",
       "    .dataframe thead th {\n",
       "        text-align: right;\n",
       "    }\n",
       "</style>\n",
       "<table border=\"1\" class=\"dataframe\">\n",
       "  <thead>\n",
       "    <tr style=\"text-align: right;\">\n",
       "      <th></th>\n",
       "      <th>A</th>\n",
       "      <th>B</th>\n",
       "    </tr>\n",
       "  </thead>\n",
       "  <tbody>\n",
       "    <tr>\n",
       "      <th>2013-01-01</th>\n",
       "      <td>0.048415</td>\n",
       "      <td>-0.115003</td>\n",
       "    </tr>\n",
       "    <tr>\n",
       "      <th>2013-01-02</th>\n",
       "      <td>-0.304148</td>\n",
       "      <td>1.108036</td>\n",
       "    </tr>\n",
       "    <tr>\n",
       "      <th>2013-01-03</th>\n",
       "      <td>-0.380950</td>\n",
       "      <td>-2.283120</td>\n",
       "    </tr>\n",
       "    <tr>\n",
       "      <th>2013-01-04</th>\n",
       "      <td>0.568640</td>\n",
       "      <td>1.902704</td>\n",
       "    </tr>\n",
       "    <tr>\n",
       "      <th>2013-01-05</th>\n",
       "      <td>0.960670</td>\n",
       "      <td>-0.755891</td>\n",
       "    </tr>\n",
       "    <tr>\n",
       "      <th>2013-01-06</th>\n",
       "      <td>-0.724948</td>\n",
       "      <td>-2.687743</td>\n",
       "    </tr>\n",
       "  </tbody>\n",
       "</table>\n",
       "</div>"
      ],
      "text/plain": [
       "                   A         B\n",
       "2013-01-01  0.048415 -0.115003\n",
       "2013-01-02 -0.304148  1.108036\n",
       "2013-01-03 -0.380950 -2.283120\n",
       "2013-01-04  0.568640  1.902704\n",
       "2013-01-05  0.960670 -0.755891\n",
       "2013-01-06 -0.724948 -2.687743"
      ]
     },
     "execution_count": 99,
     "metadata": {},
     "output_type": "execute_result"
    }
   ],
   "source": [
    "df.loc[:, [\"A\", \"B\"]]\n",
    "#모든 행중에 A, B 컬럼"
   ]
  },
  {
   "cell_type": "code",
   "execution_count": 100,
   "id": "23781251",
   "metadata": {},
   "outputs": [
    {
     "data": {
      "text/plain": [
       "A   -0.304148\n",
       "B    1.108036\n",
       "Name: 2013-01-02 00:00:00, dtype: float64"
      ]
     },
     "execution_count": 100,
     "metadata": {},
     "output_type": "execute_result"
    }
   ],
   "source": [
    "df.loc[\"20130102\", [\"A\", \"B\"]] #이름으로 지정"
   ]
  },
  {
   "cell_type": "code",
   "execution_count": 101,
   "id": "e8a5d6e1",
   "metadata": {},
   "outputs": [
    {
     "data": {
      "text/plain": [
       "A    0.568640\n",
       "B    1.902704\n",
       "C   -1.021270\n",
       "D    0.899716\n",
       "Name: 2013-01-04 00:00:00, dtype: float64"
      ]
     },
     "execution_count": 101,
     "metadata": {},
     "output_type": "execute_result"
    }
   ],
   "source": [
    "df.iloc[3] #번호로 접근"
   ]
  },
  {
   "cell_type": "code",
   "execution_count": 102,
   "id": "2e166d28",
   "metadata": {},
   "outputs": [
    {
     "data": {
      "text/html": [
       "<div>\n",
       "<style scoped>\n",
       "    .dataframe tbody tr th:only-of-type {\n",
       "        vertical-align: middle;\n",
       "    }\n",
       "\n",
       "    .dataframe tbody tr th {\n",
       "        vertical-align: top;\n",
       "    }\n",
       "\n",
       "    .dataframe thead th {\n",
       "        text-align: right;\n",
       "    }\n",
       "</style>\n",
       "<table border=\"1\" class=\"dataframe\">\n",
       "  <thead>\n",
       "    <tr style=\"text-align: right;\">\n",
       "      <th></th>\n",
       "      <th>A</th>\n",
       "      <th>B</th>\n",
       "    </tr>\n",
       "  </thead>\n",
       "  <tbody>\n",
       "    <tr>\n",
       "      <th>2013-01-04</th>\n",
       "      <td>0.56864</td>\n",
       "      <td>1.902704</td>\n",
       "    </tr>\n",
       "    <tr>\n",
       "      <th>2013-01-05</th>\n",
       "      <td>0.96067</td>\n",
       "      <td>-0.755891</td>\n",
       "    </tr>\n",
       "  </tbody>\n",
       "</table>\n",
       "</div>"
      ],
      "text/plain": [
       "                  A         B\n",
       "2013-01-04  0.56864  1.902704\n",
       "2013-01-05  0.96067 -0.755891"
      ]
     },
     "execution_count": 102,
     "metadata": {},
     "output_type": "execute_result"
    }
   ],
   "source": [
    "df.iloc[3:5, 0:2] #-->3,4행 0,1컬럼"
   ]
  },
  {
   "cell_type": "code",
   "execution_count": 103,
   "id": "49220199",
   "metadata": {},
   "outputs": [
    {
     "data": {
      "text/html": [
       "<div>\n",
       "<style scoped>\n",
       "    .dataframe tbody tr th:only-of-type {\n",
       "        vertical-align: middle;\n",
       "    }\n",
       "\n",
       "    .dataframe tbody tr th {\n",
       "        vertical-align: top;\n",
       "    }\n",
       "\n",
       "    .dataframe thead th {\n",
       "        text-align: right;\n",
       "    }\n",
       "</style>\n",
       "<table border=\"1\" class=\"dataframe\">\n",
       "  <thead>\n",
       "    <tr style=\"text-align: right;\">\n",
       "      <th></th>\n",
       "      <th>A</th>\n",
       "      <th>C</th>\n",
       "    </tr>\n",
       "  </thead>\n",
       "  <tbody>\n",
       "    <tr>\n",
       "      <th>2013-01-02</th>\n",
       "      <td>-0.304148</td>\n",
       "      <td>0.729182</td>\n",
       "    </tr>\n",
       "    <tr>\n",
       "      <th>2013-01-03</th>\n",
       "      <td>-0.380950</td>\n",
       "      <td>-0.183082</td>\n",
       "    </tr>\n",
       "    <tr>\n",
       "      <th>2013-01-05</th>\n",
       "      <td>0.960670</td>\n",
       "      <td>0.811971</td>\n",
       "    </tr>\n",
       "  </tbody>\n",
       "</table>\n",
       "</div>"
      ],
      "text/plain": [
       "                   A         C\n",
       "2013-01-02 -0.304148  0.729182\n",
       "2013-01-03 -0.380950 -0.183082\n",
       "2013-01-05  0.960670  0.811971"
      ]
     },
     "execution_count": 103,
     "metadata": {},
     "output_type": "execute_result"
    }
   ],
   "source": [
    "df.iloc[[1,2,4],[0,2]] #1,2,4번 행 / 0,2번 컬럼"
   ]
  },
  {
   "cell_type": "markdown",
   "id": "ad526b87",
   "metadata": {},
   "source": [
    "df[condition]과 같이 사용하는 것이 일반적\n",
    "Pandas의 버전에 따라 조금씩 허용되는 문법이 다르다\n",
    "외부 소스코드를 쓸 때에는 Pandas의 버전을 확인하는 것이 필요하다."
   ]
  },
  {
   "cell_type": "code",
   "execution_count": 104,
   "id": "5c38baa6",
   "metadata": {},
   "outputs": [
    {
     "data": {
      "text/html": [
       "<div>\n",
       "<style scoped>\n",
       "    .dataframe tbody tr th:only-of-type {\n",
       "        vertical-align: middle;\n",
       "    }\n",
       "\n",
       "    .dataframe tbody tr th {\n",
       "        vertical-align: top;\n",
       "    }\n",
       "\n",
       "    .dataframe thead th {\n",
       "        text-align: right;\n",
       "    }\n",
       "</style>\n",
       "<table border=\"1\" class=\"dataframe\">\n",
       "  <thead>\n",
       "    <tr style=\"text-align: right;\">\n",
       "      <th></th>\n",
       "      <th>A</th>\n",
       "      <th>B</th>\n",
       "      <th>C</th>\n",
       "      <th>D</th>\n",
       "    </tr>\n",
       "  </thead>\n",
       "  <tbody>\n",
       "    <tr>\n",
       "      <th>2013-01-01</th>\n",
       "      <td>0.048415</td>\n",
       "      <td>-0.115003</td>\n",
       "      <td>-0.309380</td>\n",
       "      <td>-1.720353</td>\n",
       "    </tr>\n",
       "    <tr>\n",
       "      <th>2013-01-02</th>\n",
       "      <td>-0.304148</td>\n",
       "      <td>1.108036</td>\n",
       "      <td>0.729182</td>\n",
       "      <td>0.204243</td>\n",
       "    </tr>\n",
       "    <tr>\n",
       "      <th>2013-01-03</th>\n",
       "      <td>-0.380950</td>\n",
       "      <td>-2.283120</td>\n",
       "      <td>-0.183082</td>\n",
       "      <td>1.198757</td>\n",
       "    </tr>\n",
       "    <tr>\n",
       "      <th>2013-01-04</th>\n",
       "      <td>0.568640</td>\n",
       "      <td>1.902704</td>\n",
       "      <td>-1.021270</td>\n",
       "      <td>0.899716</td>\n",
       "    </tr>\n",
       "    <tr>\n",
       "      <th>2013-01-05</th>\n",
       "      <td>0.960670</td>\n",
       "      <td>-0.755891</td>\n",
       "      <td>0.811971</td>\n",
       "      <td>1.413437</td>\n",
       "    </tr>\n",
       "    <tr>\n",
       "      <th>2013-01-06</th>\n",
       "      <td>-0.724948</td>\n",
       "      <td>-2.687743</td>\n",
       "      <td>2.213685</td>\n",
       "      <td>-0.126405</td>\n",
       "    </tr>\n",
       "  </tbody>\n",
       "</table>\n",
       "</div>"
      ],
      "text/plain": [
       "                   A         B         C         D\n",
       "2013-01-01  0.048415 -0.115003 -0.309380 -1.720353\n",
       "2013-01-02 -0.304148  1.108036  0.729182  0.204243\n",
       "2013-01-03 -0.380950 -2.283120 -0.183082  1.198757\n",
       "2013-01-04  0.568640  1.902704 -1.021270  0.899716\n",
       "2013-01-05  0.960670 -0.755891  0.811971  1.413437\n",
       "2013-01-06 -0.724948 -2.687743  2.213685 -0.126405"
      ]
     },
     "execution_count": 104,
     "metadata": {},
     "output_type": "execute_result"
    }
   ],
   "source": [
    "df"
   ]
  },
  {
   "cell_type": "markdown",
   "id": "7eca28b6",
   "metadata": {},
   "source": [
    "조건으로 조회"
   ]
  },
  {
   "cell_type": "code",
   "execution_count": 105,
   "id": "1fd4ae2e",
   "metadata": {},
   "outputs": [
    {
     "data": {
      "text/html": [
       "<div>\n",
       "<style scoped>\n",
       "    .dataframe tbody tr th:only-of-type {\n",
       "        vertical-align: middle;\n",
       "    }\n",
       "\n",
       "    .dataframe tbody tr th {\n",
       "        vertical-align: top;\n",
       "    }\n",
       "\n",
       "    .dataframe thead th {\n",
       "        text-align: right;\n",
       "    }\n",
       "</style>\n",
       "<table border=\"1\" class=\"dataframe\">\n",
       "  <thead>\n",
       "    <tr style=\"text-align: right;\">\n",
       "      <th></th>\n",
       "      <th>A</th>\n",
       "      <th>B</th>\n",
       "      <th>C</th>\n",
       "      <th>D</th>\n",
       "    </tr>\n",
       "  </thead>\n",
       "  <tbody>\n",
       "    <tr>\n",
       "      <th>2013-01-01</th>\n",
       "      <td>0.048415</td>\n",
       "      <td>-0.115003</td>\n",
       "      <td>-0.309380</td>\n",
       "      <td>-1.720353</td>\n",
       "    </tr>\n",
       "    <tr>\n",
       "      <th>2013-01-04</th>\n",
       "      <td>0.568640</td>\n",
       "      <td>1.902704</td>\n",
       "      <td>-1.021270</td>\n",
       "      <td>0.899716</td>\n",
       "    </tr>\n",
       "    <tr>\n",
       "      <th>2013-01-05</th>\n",
       "      <td>0.960670</td>\n",
       "      <td>-0.755891</td>\n",
       "      <td>0.811971</td>\n",
       "      <td>1.413437</td>\n",
       "    </tr>\n",
       "  </tbody>\n",
       "</table>\n",
       "</div>"
      ],
      "text/plain": [
       "                   A         B         C         D\n",
       "2013-01-01  0.048415 -0.115003 -0.309380 -1.720353\n",
       "2013-01-04  0.568640  1.902704 -1.021270  0.899716\n",
       "2013-01-05  0.960670 -0.755891  0.811971  1.413437"
      ]
     },
     "execution_count": 105,
     "metadata": {},
     "output_type": "execute_result"
    }
   ],
   "source": [
    "df[df[\"A\"] > 0]"
   ]
  },
  {
   "cell_type": "code",
   "execution_count": 106,
   "id": "47b26f69",
   "metadata": {},
   "outputs": [
    {
     "data": {
      "text/html": [
       "<div>\n",
       "<style scoped>\n",
       "    .dataframe tbody tr th:only-of-type {\n",
       "        vertical-align: middle;\n",
       "    }\n",
       "\n",
       "    .dataframe tbody tr th {\n",
       "        vertical-align: top;\n",
       "    }\n",
       "\n",
       "    .dataframe thead th {\n",
       "        text-align: right;\n",
       "    }\n",
       "</style>\n",
       "<table border=\"1\" class=\"dataframe\">\n",
       "  <thead>\n",
       "    <tr style=\"text-align: right;\">\n",
       "      <th></th>\n",
       "      <th>A</th>\n",
       "      <th>B</th>\n",
       "      <th>C</th>\n",
       "      <th>D</th>\n",
       "    </tr>\n",
       "  </thead>\n",
       "  <tbody>\n",
       "    <tr>\n",
       "      <th>2013-01-01</th>\n",
       "      <td>0.048415</td>\n",
       "      <td>NaN</td>\n",
       "      <td>NaN</td>\n",
       "      <td>NaN</td>\n",
       "    </tr>\n",
       "    <tr>\n",
       "      <th>2013-01-02</th>\n",
       "      <td>NaN</td>\n",
       "      <td>1.108036</td>\n",
       "      <td>0.729182</td>\n",
       "      <td>0.204243</td>\n",
       "    </tr>\n",
       "    <tr>\n",
       "      <th>2013-01-03</th>\n",
       "      <td>NaN</td>\n",
       "      <td>NaN</td>\n",
       "      <td>NaN</td>\n",
       "      <td>1.198757</td>\n",
       "    </tr>\n",
       "    <tr>\n",
       "      <th>2013-01-04</th>\n",
       "      <td>0.568640</td>\n",
       "      <td>1.902704</td>\n",
       "      <td>NaN</td>\n",
       "      <td>0.899716</td>\n",
       "    </tr>\n",
       "    <tr>\n",
       "      <th>2013-01-05</th>\n",
       "      <td>0.960670</td>\n",
       "      <td>NaN</td>\n",
       "      <td>0.811971</td>\n",
       "      <td>1.413437</td>\n",
       "    </tr>\n",
       "    <tr>\n",
       "      <th>2013-01-06</th>\n",
       "      <td>NaN</td>\n",
       "      <td>NaN</td>\n",
       "      <td>2.213685</td>\n",
       "      <td>NaN</td>\n",
       "    </tr>\n",
       "  </tbody>\n",
       "</table>\n",
       "</div>"
      ],
      "text/plain": [
       "                   A         B         C         D\n",
       "2013-01-01  0.048415       NaN       NaN       NaN\n",
       "2013-01-02       NaN  1.108036  0.729182  0.204243\n",
       "2013-01-03       NaN       NaN       NaN  1.198757\n",
       "2013-01-04  0.568640  1.902704       NaN  0.899716\n",
       "2013-01-05  0.960670       NaN  0.811971  1.413437\n",
       "2013-01-06       NaN       NaN  2.213685       NaN"
      ]
     },
     "execution_count": 106,
     "metadata": {},
     "output_type": "execute_result"
    }
   ],
   "source": [
    "df[df > 0]"
   ]
  },
  {
   "cell_type": "markdown",
   "id": "10923b4b",
   "metadata": {},
   "source": [
    "### 컬럼 삽입"
   ]
  },
  {
   "cell_type": "code",
   "execution_count": 107,
   "id": "d0f7293e",
   "metadata": {},
   "outputs": [
    {
     "data": {
      "text/html": [
       "<div>\n",
       "<style scoped>\n",
       "    .dataframe tbody tr th:only-of-type {\n",
       "        vertical-align: middle;\n",
       "    }\n",
       "\n",
       "    .dataframe tbody tr th {\n",
       "        vertical-align: top;\n",
       "    }\n",
       "\n",
       "    .dataframe thead th {\n",
       "        text-align: right;\n",
       "    }\n",
       "</style>\n",
       "<table border=\"1\" class=\"dataframe\">\n",
       "  <thead>\n",
       "    <tr style=\"text-align: right;\">\n",
       "      <th></th>\n",
       "      <th>A</th>\n",
       "      <th>B</th>\n",
       "      <th>C</th>\n",
       "      <th>D</th>\n",
       "      <th>E</th>\n",
       "    </tr>\n",
       "  </thead>\n",
       "  <tbody>\n",
       "    <tr>\n",
       "      <th>2013-01-01</th>\n",
       "      <td>0.048415</td>\n",
       "      <td>-0.115003</td>\n",
       "      <td>-0.309380</td>\n",
       "      <td>-1.720353</td>\n",
       "      <td>one</td>\n",
       "    </tr>\n",
       "    <tr>\n",
       "      <th>2013-01-02</th>\n",
       "      <td>-0.304148</td>\n",
       "      <td>1.108036</td>\n",
       "      <td>0.729182</td>\n",
       "      <td>0.204243</td>\n",
       "      <td>one</td>\n",
       "    </tr>\n",
       "    <tr>\n",
       "      <th>2013-01-03</th>\n",
       "      <td>-0.380950</td>\n",
       "      <td>-2.283120</td>\n",
       "      <td>-0.183082</td>\n",
       "      <td>1.198757</td>\n",
       "      <td>two</td>\n",
       "    </tr>\n",
       "    <tr>\n",
       "      <th>2013-01-04</th>\n",
       "      <td>0.568640</td>\n",
       "      <td>1.902704</td>\n",
       "      <td>-1.021270</td>\n",
       "      <td>0.899716</td>\n",
       "      <td>three</td>\n",
       "    </tr>\n",
       "    <tr>\n",
       "      <th>2013-01-05</th>\n",
       "      <td>0.960670</td>\n",
       "      <td>-0.755891</td>\n",
       "      <td>0.811971</td>\n",
       "      <td>1.413437</td>\n",
       "      <td>four</td>\n",
       "    </tr>\n",
       "    <tr>\n",
       "      <th>2013-01-06</th>\n",
       "      <td>-0.724948</td>\n",
       "      <td>-2.687743</td>\n",
       "      <td>2.213685</td>\n",
       "      <td>-0.126405</td>\n",
       "      <td>three</td>\n",
       "    </tr>\n",
       "  </tbody>\n",
       "</table>\n",
       "</div>"
      ],
      "text/plain": [
       "                   A         B         C         D      E\n",
       "2013-01-01  0.048415 -0.115003 -0.309380 -1.720353    one\n",
       "2013-01-02 -0.304148  1.108036  0.729182  0.204243    one\n",
       "2013-01-03 -0.380950 -2.283120 -0.183082  1.198757    two\n",
       "2013-01-04  0.568640  1.902704 -1.021270  0.899716  three\n",
       "2013-01-05  0.960670 -0.755891  0.811971  1.413437   four\n",
       "2013-01-06 -0.724948 -2.687743  2.213685 -0.126405  three"
      ]
     },
     "execution_count": 107,
     "metadata": {},
     "output_type": "execute_result"
    }
   ],
   "source": [
    "df[\"E\"] = [\"one\", \"one\", \"two\", \"three\", \"four\", \"three\"]\n",
    "df"
   ]
  },
  {
   "cell_type": "markdown",
   "id": "2370d7d6",
   "metadata": {},
   "source": [
    "### isin() 함수 -  boolean 타입으로 반환"
   ]
  },
  {
   "cell_type": "code",
   "execution_count": 108,
   "id": "6ea446ce",
   "metadata": {},
   "outputs": [
    {
     "data": {
      "text/plain": [
       "2013-01-01    False\n",
       "2013-01-02    False\n",
       "2013-01-03     True\n",
       "2013-01-04    False\n",
       "2013-01-05     True\n",
       "2013-01-06    False\n",
       "Freq: D, Name: E, dtype: bool"
      ]
     },
     "execution_count": 108,
     "metadata": {},
     "output_type": "execute_result"
    }
   ],
   "source": [
    "df[\"E\"].isin([\"two\", \"four\"])\n",
    "#DataFrame E\"라는 열이 있는 경우 df[\"E\"]는 해당 열을 나타내는 시리즈를 제공"
   ]
  },
  {
   "cell_type": "markdown",
   "id": "ae6fb121",
   "metadata": {},
   "source": [
    "### df[] - Series가 True인 경우 'df'의 해당 행이 결과에 포함됩니다. Series가 False이면 df의 해당 행이 제외됩니다."
   ]
  },
  {
   "cell_type": "code",
   "execution_count": 109,
   "id": "930cb03e",
   "metadata": {},
   "outputs": [
    {
     "data": {
      "text/html": [
       "<div>\n",
       "<style scoped>\n",
       "    .dataframe tbody tr th:only-of-type {\n",
       "        vertical-align: middle;\n",
       "    }\n",
       "\n",
       "    .dataframe tbody tr th {\n",
       "        vertical-align: top;\n",
       "    }\n",
       "\n",
       "    .dataframe thead th {\n",
       "        text-align: right;\n",
       "    }\n",
       "</style>\n",
       "<table border=\"1\" class=\"dataframe\">\n",
       "  <thead>\n",
       "    <tr style=\"text-align: right;\">\n",
       "      <th></th>\n",
       "      <th>A</th>\n",
       "      <th>B</th>\n",
       "      <th>C</th>\n",
       "      <th>D</th>\n",
       "      <th>E</th>\n",
       "    </tr>\n",
       "  </thead>\n",
       "  <tbody>\n",
       "    <tr>\n",
       "      <th>2013-01-03</th>\n",
       "      <td>-0.38095</td>\n",
       "      <td>-2.283120</td>\n",
       "      <td>-0.183082</td>\n",
       "      <td>1.198757</td>\n",
       "      <td>two</td>\n",
       "    </tr>\n",
       "    <tr>\n",
       "      <th>2013-01-05</th>\n",
       "      <td>0.96067</td>\n",
       "      <td>-0.755891</td>\n",
       "      <td>0.811971</td>\n",
       "      <td>1.413437</td>\n",
       "      <td>four</td>\n",
       "    </tr>\n",
       "  </tbody>\n",
       "</table>\n",
       "</div>"
      ],
      "text/plain": [
       "                  A         B         C         D     E\n",
       "2013-01-03 -0.38095 -2.283120 -0.183082  1.198757   two\n",
       "2013-01-05  0.96067 -0.755891  0.811971  1.413437  four"
      ]
     },
     "execution_count": 109,
     "metadata": {},
     "output_type": "execute_result"
    }
   ],
   "source": [
    "df[df[\"E\"].isin([\"two\", \"four\"])]"
   ]
  },
  {
   "cell_type": "markdown",
   "id": "75a02462",
   "metadata": {},
   "source": [
    "### 특정 컬럼 제거"
   ]
  },
  {
   "cell_type": "code",
   "execution_count": 110,
   "id": "cbe3c028",
   "metadata": {},
   "outputs": [
    {
     "data": {
      "text/html": [
       "<div>\n",
       "<style scoped>\n",
       "    .dataframe tbody tr th:only-of-type {\n",
       "        vertical-align: middle;\n",
       "    }\n",
       "\n",
       "    .dataframe tbody tr th {\n",
       "        vertical-align: top;\n",
       "    }\n",
       "\n",
       "    .dataframe thead th {\n",
       "        text-align: right;\n",
       "    }\n",
       "</style>\n",
       "<table border=\"1\" class=\"dataframe\">\n",
       "  <thead>\n",
       "    <tr style=\"text-align: right;\">\n",
       "      <th></th>\n",
       "      <th>A</th>\n",
       "      <th>B</th>\n",
       "      <th>C</th>\n",
       "      <th>D</th>\n",
       "    </tr>\n",
       "  </thead>\n",
       "  <tbody>\n",
       "    <tr>\n",
       "      <th>2013-01-01</th>\n",
       "      <td>0.048415</td>\n",
       "      <td>-0.115003</td>\n",
       "      <td>-0.309380</td>\n",
       "      <td>-1.720353</td>\n",
       "    </tr>\n",
       "    <tr>\n",
       "      <th>2013-01-02</th>\n",
       "      <td>-0.304148</td>\n",
       "      <td>1.108036</td>\n",
       "      <td>0.729182</td>\n",
       "      <td>0.204243</td>\n",
       "    </tr>\n",
       "    <tr>\n",
       "      <th>2013-01-03</th>\n",
       "      <td>-0.380950</td>\n",
       "      <td>-2.283120</td>\n",
       "      <td>-0.183082</td>\n",
       "      <td>1.198757</td>\n",
       "    </tr>\n",
       "    <tr>\n",
       "      <th>2013-01-04</th>\n",
       "      <td>0.568640</td>\n",
       "      <td>1.902704</td>\n",
       "      <td>-1.021270</td>\n",
       "      <td>0.899716</td>\n",
       "    </tr>\n",
       "    <tr>\n",
       "      <th>2013-01-05</th>\n",
       "      <td>0.960670</td>\n",
       "      <td>-0.755891</td>\n",
       "      <td>0.811971</td>\n",
       "      <td>1.413437</td>\n",
       "    </tr>\n",
       "    <tr>\n",
       "      <th>2013-01-06</th>\n",
       "      <td>-0.724948</td>\n",
       "      <td>-2.687743</td>\n",
       "      <td>2.213685</td>\n",
       "      <td>-0.126405</td>\n",
       "    </tr>\n",
       "  </tbody>\n",
       "</table>\n",
       "</div>"
      ],
      "text/plain": [
       "                   A         B         C         D\n",
       "2013-01-01  0.048415 -0.115003 -0.309380 -1.720353\n",
       "2013-01-02 -0.304148  1.108036  0.729182  0.204243\n",
       "2013-01-03 -0.380950 -2.283120 -0.183082  1.198757\n",
       "2013-01-04  0.568640  1.902704 -1.021270  0.899716\n",
       "2013-01-05  0.960670 -0.755891  0.811971  1.413437\n",
       "2013-01-06 -0.724948 -2.687743  2.213685 -0.126405"
      ]
     },
     "execution_count": 110,
     "metadata": {},
     "output_type": "execute_result"
    }
   ],
   "source": [
    "del df[\"E\"]\n",
    "df"
   ]
  },
  {
   "cell_type": "markdown",
   "id": "5c8a38d0",
   "metadata": {},
   "source": [
    "### 각 컬럼 누적함"
   ]
  },
  {
   "cell_type": "code",
   "execution_count": 111,
   "id": "397fab39",
   "metadata": {},
   "outputs": [
    {
     "data": {
      "text/html": [
       "<div>\n",
       "<style scoped>\n",
       "    .dataframe tbody tr th:only-of-type {\n",
       "        vertical-align: middle;\n",
       "    }\n",
       "\n",
       "    .dataframe tbody tr th {\n",
       "        vertical-align: top;\n",
       "    }\n",
       "\n",
       "    .dataframe thead th {\n",
       "        text-align: right;\n",
       "    }\n",
       "</style>\n",
       "<table border=\"1\" class=\"dataframe\">\n",
       "  <thead>\n",
       "    <tr style=\"text-align: right;\">\n",
       "      <th></th>\n",
       "      <th>A</th>\n",
       "      <th>B</th>\n",
       "      <th>C</th>\n",
       "      <th>D</th>\n",
       "    </tr>\n",
       "  </thead>\n",
       "  <tbody>\n",
       "    <tr>\n",
       "      <th>2013-01-01</th>\n",
       "      <td>0.048415</td>\n",
       "      <td>-0.115003</td>\n",
       "      <td>-0.309380</td>\n",
       "      <td>-1.720353</td>\n",
       "    </tr>\n",
       "    <tr>\n",
       "      <th>2013-01-02</th>\n",
       "      <td>-0.304148</td>\n",
       "      <td>1.108036</td>\n",
       "      <td>0.729182</td>\n",
       "      <td>0.204243</td>\n",
       "    </tr>\n",
       "    <tr>\n",
       "      <th>2013-01-03</th>\n",
       "      <td>-0.380950</td>\n",
       "      <td>-2.283120</td>\n",
       "      <td>-0.183082</td>\n",
       "      <td>1.198757</td>\n",
       "    </tr>\n",
       "    <tr>\n",
       "      <th>2013-01-04</th>\n",
       "      <td>0.568640</td>\n",
       "      <td>1.902704</td>\n",
       "      <td>-1.021270</td>\n",
       "      <td>0.899716</td>\n",
       "    </tr>\n",
       "    <tr>\n",
       "      <th>2013-01-05</th>\n",
       "      <td>0.960670</td>\n",
       "      <td>-0.755891</td>\n",
       "      <td>0.811971</td>\n",
       "      <td>1.413437</td>\n",
       "    </tr>\n",
       "    <tr>\n",
       "      <th>2013-01-06</th>\n",
       "      <td>-0.724948</td>\n",
       "      <td>-2.687743</td>\n",
       "      <td>2.213685</td>\n",
       "      <td>-0.126405</td>\n",
       "    </tr>\n",
       "  </tbody>\n",
       "</table>\n",
       "</div>"
      ],
      "text/plain": [
       "                   A         B         C         D\n",
       "2013-01-01  0.048415 -0.115003 -0.309380 -1.720353\n",
       "2013-01-02 -0.304148  1.108036  0.729182  0.204243\n",
       "2013-01-03 -0.380950 -2.283120 -0.183082  1.198757\n",
       "2013-01-04  0.568640  1.902704 -1.021270  0.899716\n",
       "2013-01-05  0.960670 -0.755891  0.811971  1.413437\n",
       "2013-01-06 -0.724948 -2.687743  2.213685 -0.126405"
      ]
     },
     "execution_count": 111,
     "metadata": {},
     "output_type": "execute_result"
    }
   ],
   "source": [
    "df.apply(np.cumsum)\n",
    "df"
   ]
  },
  {
   "cell_type": "markdown",
   "id": "c58f8d43",
   "metadata": {},
   "source": [
    "## DataFrame\n",
    "- pd.Series()\n",
    "    - index, value\n",
    "- pd.DataFrame()\n",
    "    -index, value, column"
   ]
  },
  {
   "cell_type": "code",
   "execution_count": 112,
   "id": "f30fd84a",
   "metadata": {},
   "outputs": [
    {
     "data": {
      "text/html": [
       "<div>\n",
       "<style scoped>\n",
       "    .dataframe tbody tr th:only-of-type {\n",
       "        vertical-align: middle;\n",
       "    }\n",
       "\n",
       "    .dataframe tbody tr th {\n",
       "        vertical-align: top;\n",
       "    }\n",
       "\n",
       "    .dataframe thead th {\n",
       "        text-align: right;\n",
       "    }\n",
       "</style>\n",
       "<table border=\"1\" class=\"dataframe\">\n",
       "  <thead>\n",
       "    <tr style=\"text-align: right;\">\n",
       "      <th></th>\n",
       "    </tr>\n",
       "  </thead>\n",
       "  <tbody>\n",
       "  </tbody>\n",
       "</table>\n",
       "</div>"
      ],
      "text/plain": [
       "Empty DataFrame\n",
       "Columns: []\n",
       "Index: []"
      ]
     },
     "execution_count": 112,
     "metadata": {},
     "output_type": "execute_result"
    }
   ],
   "source": [
    "pd.DataFrame() # shift + tab - docstring확인가능"
   ]
  },
  {
   "cell_type": "code",
   "execution_count": 117,
   "id": "1cea30e9",
   "metadata": {},
   "outputs": [
    {
     "data": {
      "text/plain": [
       "array([[-1.12511448,  2.1318122 ,  0.40621616, -0.08692747],\n",
       "       [-0.61688788, -1.23084707,  0.77109504,  0.89557834],\n",
       "       [ 1.74789708, -0.11659216, -1.05132155,  0.88231797],\n",
       "       [-0.61010164,  0.19451338, -0.75112913, -0.99945916],\n",
       "       [ 2.02813018,  0.8878463 ,  0.31608133,  1.07460061],\n",
       "       [ 0.21641445, -0.68536973,  0.3550045 , -0.35887858]])"
      ]
     },
     "execution_count": 117,
     "metadata": {},
     "output_type": "execute_result"
    }
   ],
   "source": [
    "#표준정규분포에서 샘플링한 난수 생성\n",
    "data = np.random.randn(6, 4) #6행 4열\n",
    "data"
   ]
  },
  {
   "cell_type": "code",
   "execution_count": 119,
   "id": "7f328802",
   "metadata": {},
   "outputs": [
    {
     "data": {
      "text/html": [
       "<div>\n",
       "<style scoped>\n",
       "    .dataframe tbody tr th:only-of-type {\n",
       "        vertical-align: middle;\n",
       "    }\n",
       "\n",
       "    .dataframe tbody tr th {\n",
       "        vertical-align: top;\n",
       "    }\n",
       "\n",
       "    .dataframe thead th {\n",
       "        text-align: right;\n",
       "    }\n",
       "</style>\n",
       "<table border=\"1\" class=\"dataframe\">\n",
       "  <thead>\n",
       "    <tr style=\"text-align: right;\">\n",
       "      <th></th>\n",
       "      <th>A</th>\n",
       "      <th>B</th>\n",
       "      <th>C</th>\n",
       "      <th>D</th>\n",
       "    </tr>\n",
       "  </thead>\n",
       "  <tbody>\n",
       "    <tr>\n",
       "      <th>2013-01-01</th>\n",
       "      <td>-1.125114</td>\n",
       "      <td>2.131812</td>\n",
       "      <td>0.406216</td>\n",
       "      <td>-0.086927</td>\n",
       "    </tr>\n",
       "    <tr>\n",
       "      <th>2013-01-02</th>\n",
       "      <td>-0.616888</td>\n",
       "      <td>-1.230847</td>\n",
       "      <td>0.771095</td>\n",
       "      <td>0.895578</td>\n",
       "    </tr>\n",
       "    <tr>\n",
       "      <th>2013-01-03</th>\n",
       "      <td>1.747897</td>\n",
       "      <td>-0.116592</td>\n",
       "      <td>-1.051322</td>\n",
       "      <td>0.882318</td>\n",
       "    </tr>\n",
       "    <tr>\n",
       "      <th>2013-01-04</th>\n",
       "      <td>-0.610102</td>\n",
       "      <td>0.194513</td>\n",
       "      <td>-0.751129</td>\n",
       "      <td>-0.999459</td>\n",
       "    </tr>\n",
       "    <tr>\n",
       "      <th>2013-01-05</th>\n",
       "      <td>2.028130</td>\n",
       "      <td>0.887846</td>\n",
       "      <td>0.316081</td>\n",
       "      <td>1.074601</td>\n",
       "    </tr>\n",
       "    <tr>\n",
       "      <th>2013-01-06</th>\n",
       "      <td>0.216414</td>\n",
       "      <td>-0.685370</td>\n",
       "      <td>0.355004</td>\n",
       "      <td>-0.358879</td>\n",
       "    </tr>\n",
       "  </tbody>\n",
       "</table>\n",
       "</div>"
      ],
      "text/plain": [
       "                   A         B         C         D\n",
       "2013-01-01 -1.125114  2.131812  0.406216 -0.086927\n",
       "2013-01-02 -0.616888 -1.230847  0.771095  0.895578\n",
       "2013-01-03  1.747897 -0.116592 -1.051322  0.882318\n",
       "2013-01-04 -0.610102  0.194513 -0.751129 -0.999459\n",
       "2013-01-05  2.028130  0.887846  0.316081  1.074601\n",
       "2013-01-06  0.216414 -0.685370  0.355004 -0.358879"
      ]
     },
     "execution_count": 119,
     "metadata": {},
     "output_type": "execute_result"
    }
   ],
   "source": [
    "df = pd.DataFrame(data, index=dates, columns=[\"A\", \"B\", \"C\", \"D\"])\n",
    "df"
   ]
  },
  {
   "cell_type": "markdown",
   "id": "ee4ba4ca",
   "metadata": {},
   "source": [
    "### 데이터 프레임 정보탐색\n",
    "-df.head()"
   ]
  },
  {
   "cell_type": "code",
   "execution_count": 120,
   "id": "f1e28f8c",
   "metadata": {},
   "outputs": [
    {
     "data": {
      "text/html": [
       "<div>\n",
       "<style scoped>\n",
       "    .dataframe tbody tr th:only-of-type {\n",
       "        vertical-align: middle;\n",
       "    }\n",
       "\n",
       "    .dataframe tbody tr th {\n",
       "        vertical-align: top;\n",
       "    }\n",
       "\n",
       "    .dataframe thead th {\n",
       "        text-align: right;\n",
       "    }\n",
       "</style>\n",
       "<table border=\"1\" class=\"dataframe\">\n",
       "  <thead>\n",
       "    <tr style=\"text-align: right;\">\n",
       "      <th></th>\n",
       "      <th>A</th>\n",
       "      <th>B</th>\n",
       "      <th>C</th>\n",
       "      <th>D</th>\n",
       "    </tr>\n",
       "  </thead>\n",
       "  <tbody>\n",
       "    <tr>\n",
       "      <th>2013-01-01</th>\n",
       "      <td>-1.125114</td>\n",
       "      <td>2.131812</td>\n",
       "      <td>0.406216</td>\n",
       "      <td>-0.086927</td>\n",
       "    </tr>\n",
       "    <tr>\n",
       "      <th>2013-01-02</th>\n",
       "      <td>-0.616888</td>\n",
       "      <td>-1.230847</td>\n",
       "      <td>0.771095</td>\n",
       "      <td>0.895578</td>\n",
       "    </tr>\n",
       "    <tr>\n",
       "      <th>2013-01-03</th>\n",
       "      <td>1.747897</td>\n",
       "      <td>-0.116592</td>\n",
       "      <td>-1.051322</td>\n",
       "      <td>0.882318</td>\n",
       "    </tr>\n",
       "    <tr>\n",
       "      <th>2013-01-04</th>\n",
       "      <td>-0.610102</td>\n",
       "      <td>0.194513</td>\n",
       "      <td>-0.751129</td>\n",
       "      <td>-0.999459</td>\n",
       "    </tr>\n",
       "    <tr>\n",
       "      <th>2013-01-05</th>\n",
       "      <td>2.028130</td>\n",
       "      <td>0.887846</td>\n",
       "      <td>0.316081</td>\n",
       "      <td>1.074601</td>\n",
       "    </tr>\n",
       "  </tbody>\n",
       "</table>\n",
       "</div>"
      ],
      "text/plain": [
       "                   A         B         C         D\n",
       "2013-01-01 -1.125114  2.131812  0.406216 -0.086927\n",
       "2013-01-02 -0.616888 -1.230847  0.771095  0.895578\n",
       "2013-01-03  1.747897 -0.116592 -1.051322  0.882318\n",
       "2013-01-04 -0.610102  0.194513 -0.751129 -0.999459\n",
       "2013-01-05  2.028130  0.887846  0.316081  1.074601"
      ]
     },
     "execution_count": 120,
     "metadata": {},
     "output_type": "execute_result"
    }
   ],
   "source": [
    "df.head()"
   ]
  },
  {
   "cell_type": "code",
   "execution_count": 121,
   "id": "8247d0c4",
   "metadata": {},
   "outputs": [
    {
     "data": {
      "text/html": [
       "<div>\n",
       "<style scoped>\n",
       "    .dataframe tbody tr th:only-of-type {\n",
       "        vertical-align: middle;\n",
       "    }\n",
       "\n",
       "    .dataframe tbody tr th {\n",
       "        vertical-align: top;\n",
       "    }\n",
       "\n",
       "    .dataframe thead th {\n",
       "        text-align: right;\n",
       "    }\n",
       "</style>\n",
       "<table border=\"1\" class=\"dataframe\">\n",
       "  <thead>\n",
       "    <tr style=\"text-align: right;\">\n",
       "      <th></th>\n",
       "      <th>A</th>\n",
       "      <th>B</th>\n",
       "      <th>C</th>\n",
       "      <th>D</th>\n",
       "    </tr>\n",
       "  </thead>\n",
       "  <tbody>\n",
       "    <tr>\n",
       "      <th>2013-01-02</th>\n",
       "      <td>-0.616888</td>\n",
       "      <td>-1.230847</td>\n",
       "      <td>0.771095</td>\n",
       "      <td>0.895578</td>\n",
       "    </tr>\n",
       "    <tr>\n",
       "      <th>2013-01-03</th>\n",
       "      <td>1.747897</td>\n",
       "      <td>-0.116592</td>\n",
       "      <td>-1.051322</td>\n",
       "      <td>0.882318</td>\n",
       "    </tr>\n",
       "    <tr>\n",
       "      <th>2013-01-04</th>\n",
       "      <td>-0.610102</td>\n",
       "      <td>0.194513</td>\n",
       "      <td>-0.751129</td>\n",
       "      <td>-0.999459</td>\n",
       "    </tr>\n",
       "    <tr>\n",
       "      <th>2013-01-05</th>\n",
       "      <td>2.028130</td>\n",
       "      <td>0.887846</td>\n",
       "      <td>0.316081</td>\n",
       "      <td>1.074601</td>\n",
       "    </tr>\n",
       "    <tr>\n",
       "      <th>2013-01-06</th>\n",
       "      <td>0.216414</td>\n",
       "      <td>-0.685370</td>\n",
       "      <td>0.355004</td>\n",
       "      <td>-0.358879</td>\n",
       "    </tr>\n",
       "  </tbody>\n",
       "</table>\n",
       "</div>"
      ],
      "text/plain": [
       "                   A         B         C         D\n",
       "2013-01-02 -0.616888 -1.230847  0.771095  0.895578\n",
       "2013-01-03  1.747897 -0.116592 -1.051322  0.882318\n",
       "2013-01-04 -0.610102  0.194513 -0.751129 -0.999459\n",
       "2013-01-05  2.028130  0.887846  0.316081  1.074601\n",
       "2013-01-06  0.216414 -0.685370  0.355004 -0.358879"
      ]
     },
     "execution_count": 121,
     "metadata": {},
     "output_type": "execute_result"
    }
   ],
   "source": [
    "df.tail() #데이터의 수도 파악가능할 수 있다."
   ]
  },
  {
   "cell_type": "code",
   "execution_count": 122,
   "id": "5a43d7df",
   "metadata": {},
   "outputs": [
    {
     "data": {
      "text/plain": [
       "DatetimeIndex(['2013-01-01', '2013-01-02', '2013-01-03', '2013-01-04',\n",
       "               '2013-01-05', '2013-01-06'],\n",
       "              dtype='datetime64[ns]', freq='D')"
      ]
     },
     "execution_count": 122,
     "metadata": {},
     "output_type": "execute_result"
    }
   ],
   "source": [
    "df.index #head() tail()과 다른건 변수냐 내장되어있는 함수냐"
   ]
  },
  {
   "cell_type": "code",
   "execution_count": 123,
   "id": "652920d4",
   "metadata": {},
   "outputs": [
    {
     "data": {
      "text/plain": [
       "Index(['A', 'B', 'C', 'D'], dtype='object')"
      ]
     },
     "execution_count": 123,
     "metadata": {},
     "output_type": "execute_result"
    }
   ],
   "source": [
    "df.columns #리스트형태"
   ]
  },
  {
   "cell_type": "markdown",
   "id": "b107d695",
   "metadata": {},
   "source": [
    "- df.info() : 데이터 프레임의 기본 정보 확인"
   ]
  },
  {
   "cell_type": "code",
   "execution_count": 124,
   "id": "7d5ee9d3",
   "metadata": {},
   "outputs": [
    {
     "name": "stdout",
     "output_type": "stream",
     "text": [
      "<class 'pandas.core.frame.DataFrame'>\n",
      "DatetimeIndex: 6 entries, 2013-01-01 to 2013-01-06\n",
      "Freq: D\n",
      "Data columns (total 4 columns):\n",
      " #   Column  Non-Null Count  Dtype  \n",
      "---  ------  --------------  -----  \n",
      " 0   A       6 non-null      float64\n",
      " 1   B       6 non-null      float64\n",
      " 2   C       6 non-null      float64\n",
      " 3   D       6 non-null      float64\n",
      "dtypes: float64(4)\n",
      "memory usage: 412.0 bytes\n"
     ]
    }
   ],
   "source": [
    "df.info()"
   ]
  },
  {
   "cell_type": "markdown",
   "id": "52c9a43f",
   "metadata": {},
   "source": [
    "- df.describe() : 데이터 프레임의 기술통계 정보 확인"
   ]
  },
  {
   "cell_type": "code",
   "execution_count": 125,
   "id": "dfaf92cd",
   "metadata": {},
   "outputs": [
    {
     "data": {
      "text/html": [
       "<div>\n",
       "<style scoped>\n",
       "    .dataframe tbody tr th:only-of-type {\n",
       "        vertical-align: middle;\n",
       "    }\n",
       "\n",
       "    .dataframe tbody tr th {\n",
       "        vertical-align: top;\n",
       "    }\n",
       "\n",
       "    .dataframe thead th {\n",
       "        text-align: right;\n",
       "    }\n",
       "</style>\n",
       "<table border=\"1\" class=\"dataframe\">\n",
       "  <thead>\n",
       "    <tr style=\"text-align: right;\">\n",
       "      <th></th>\n",
       "      <th>A</th>\n",
       "      <th>B</th>\n",
       "      <th>C</th>\n",
       "      <th>D</th>\n",
       "    </tr>\n",
       "  </thead>\n",
       "  <tbody>\n",
       "    <tr>\n",
       "      <th>count</th>\n",
       "      <td>6.000000</td>\n",
       "      <td>6.000000</td>\n",
       "      <td>6.000000</td>\n",
       "      <td>6.000000</td>\n",
       "    </tr>\n",
       "    <tr>\n",
       "      <th>mean</th>\n",
       "      <td>0.273390</td>\n",
       "      <td>0.196894</td>\n",
       "      <td>0.007658</td>\n",
       "      <td>0.234539</td>\n",
       "    </tr>\n",
       "    <tr>\n",
       "      <th>std</th>\n",
       "      <td>1.325556</td>\n",
       "      <td>1.194691</td>\n",
       "      <td>0.728650</td>\n",
       "      <td>0.841490</td>\n",
       "    </tr>\n",
       "    <tr>\n",
       "      <th>min</th>\n",
       "      <td>-1.125114</td>\n",
       "      <td>-1.230847</td>\n",
       "      <td>-1.051322</td>\n",
       "      <td>-0.999459</td>\n",
       "    </tr>\n",
       "    <tr>\n",
       "      <th>25%</th>\n",
       "      <td>-0.615191</td>\n",
       "      <td>-0.543175</td>\n",
       "      <td>-0.484327</td>\n",
       "      <td>-0.290891</td>\n",
       "    </tr>\n",
       "    <tr>\n",
       "      <th>50%</th>\n",
       "      <td>-0.196844</td>\n",
       "      <td>0.038961</td>\n",
       "      <td>0.335543</td>\n",
       "      <td>0.397695</td>\n",
       "    </tr>\n",
       "    <tr>\n",
       "      <th>75%</th>\n",
       "      <td>1.365026</td>\n",
       "      <td>0.714513</td>\n",
       "      <td>0.393413</td>\n",
       "      <td>0.892263</td>\n",
       "    </tr>\n",
       "    <tr>\n",
       "      <th>max</th>\n",
       "      <td>2.028130</td>\n",
       "      <td>2.131812</td>\n",
       "      <td>0.771095</td>\n",
       "      <td>1.074601</td>\n",
       "    </tr>\n",
       "  </tbody>\n",
       "</table>\n",
       "</div>"
      ],
      "text/plain": [
       "              A         B         C         D\n",
       "count  6.000000  6.000000  6.000000  6.000000\n",
       "mean   0.273390  0.196894  0.007658  0.234539\n",
       "std    1.325556  1.194691  0.728650  0.841490\n",
       "min   -1.125114 -1.230847 -1.051322 -0.999459\n",
       "25%   -0.615191 -0.543175 -0.484327 -0.290891\n",
       "50%   -0.196844  0.038961  0.335543  0.397695\n",
       "75%    1.365026  0.714513  0.393413  0.892263\n",
       "max    2.028130  2.131812  0.771095  1.074601"
      ]
     },
     "execution_count": 125,
     "metadata": {},
     "output_type": "execute_result"
    }
   ],
   "source": [
    "df.describe()"
   ]
  },
  {
   "cell_type": "markdown",
   "id": "a9007b5d",
   "metadata": {},
   "source": [
    "### 데이터 정렬\n",
    "- sort_values()\n",
    "- 특정 컬럼(열)을 기준으로 데이터를 정렬"
   ]
  },
  {
   "cell_type": "code",
   "execution_count": 127,
   "id": "f8c92a85",
   "metadata": {},
   "outputs": [
    {
     "data": {
      "text/html": [
       "<div>\n",
       "<style scoped>\n",
       "    .dataframe tbody tr th:only-of-type {\n",
       "        vertical-align: middle;\n",
       "    }\n",
       "\n",
       "    .dataframe tbody tr th {\n",
       "        vertical-align: top;\n",
       "    }\n",
       "\n",
       "    .dataframe thead th {\n",
       "        text-align: right;\n",
       "    }\n",
       "</style>\n",
       "<table border=\"1\" class=\"dataframe\">\n",
       "  <thead>\n",
       "    <tr style=\"text-align: right;\">\n",
       "      <th></th>\n",
       "      <th>A</th>\n",
       "      <th>B</th>\n",
       "      <th>C</th>\n",
       "      <th>D</th>\n",
       "    </tr>\n",
       "  </thead>\n",
       "  <tbody>\n",
       "    <tr>\n",
       "      <th>2013-01-02</th>\n",
       "      <td>-0.616888</td>\n",
       "      <td>-1.230847</td>\n",
       "      <td>0.771095</td>\n",
       "      <td>0.895578</td>\n",
       "    </tr>\n",
       "    <tr>\n",
       "      <th>2013-01-06</th>\n",
       "      <td>0.216414</td>\n",
       "      <td>-0.685370</td>\n",
       "      <td>0.355004</td>\n",
       "      <td>-0.358879</td>\n",
       "    </tr>\n",
       "    <tr>\n",
       "      <th>2013-01-03</th>\n",
       "      <td>1.747897</td>\n",
       "      <td>-0.116592</td>\n",
       "      <td>-1.051322</td>\n",
       "      <td>0.882318</td>\n",
       "    </tr>\n",
       "    <tr>\n",
       "      <th>2013-01-04</th>\n",
       "      <td>-0.610102</td>\n",
       "      <td>0.194513</td>\n",
       "      <td>-0.751129</td>\n",
       "      <td>-0.999459</td>\n",
       "    </tr>\n",
       "    <tr>\n",
       "      <th>2013-01-05</th>\n",
       "      <td>2.028130</td>\n",
       "      <td>0.887846</td>\n",
       "      <td>0.316081</td>\n",
       "      <td>1.074601</td>\n",
       "    </tr>\n",
       "    <tr>\n",
       "      <th>2013-01-01</th>\n",
       "      <td>-1.125114</td>\n",
       "      <td>2.131812</td>\n",
       "      <td>0.406216</td>\n",
       "      <td>-0.086927</td>\n",
       "    </tr>\n",
       "  </tbody>\n",
       "</table>\n",
       "</div>"
      ],
      "text/plain": [
       "                   A         B         C         D\n",
       "2013-01-02 -0.616888 -1.230847  0.771095  0.895578\n",
       "2013-01-06  0.216414 -0.685370  0.355004 -0.358879\n",
       "2013-01-03  1.747897 -0.116592 -1.051322  0.882318\n",
       "2013-01-04 -0.610102  0.194513 -0.751129 -0.999459\n",
       "2013-01-05  2.028130  0.887846  0.316081  1.074601\n",
       "2013-01-01 -1.125114  2.131812  0.406216 -0.086927"
      ]
     },
     "execution_count": 127,
     "metadata": {},
     "output_type": "execute_result"
    }
   ],
   "source": [
    "df.sort_values(by=\"B\")"
   ]
  },
  {
   "cell_type": "code",
   "execution_count": 128,
   "id": "bd69108e",
   "metadata": {},
   "outputs": [],
   "source": [
    "df.sort_values(by=\"B\", ascending=False, inplace=True)"
   ]
  },
  {
   "cell_type": "code",
   "execution_count": 129,
   "id": "b85bec3e",
   "metadata": {},
   "outputs": [
    {
     "data": {
      "text/html": [
       "<div>\n",
       "<style scoped>\n",
       "    .dataframe tbody tr th:only-of-type {\n",
       "        vertical-align: middle;\n",
       "    }\n",
       "\n",
       "    .dataframe tbody tr th {\n",
       "        vertical-align: top;\n",
       "    }\n",
       "\n",
       "    .dataframe thead th {\n",
       "        text-align: right;\n",
       "    }\n",
       "</style>\n",
       "<table border=\"1\" class=\"dataframe\">\n",
       "  <thead>\n",
       "    <tr style=\"text-align: right;\">\n",
       "      <th></th>\n",
       "      <th>A</th>\n",
       "      <th>B</th>\n",
       "      <th>C</th>\n",
       "      <th>D</th>\n",
       "    </tr>\n",
       "  </thead>\n",
       "  <tbody>\n",
       "    <tr>\n",
       "      <th>2013-01-01</th>\n",
       "      <td>-1.125114</td>\n",
       "      <td>2.131812</td>\n",
       "      <td>0.406216</td>\n",
       "      <td>-0.086927</td>\n",
       "    </tr>\n",
       "    <tr>\n",
       "      <th>2013-01-05</th>\n",
       "      <td>2.028130</td>\n",
       "      <td>0.887846</td>\n",
       "      <td>0.316081</td>\n",
       "      <td>1.074601</td>\n",
       "    </tr>\n",
       "    <tr>\n",
       "      <th>2013-01-04</th>\n",
       "      <td>-0.610102</td>\n",
       "      <td>0.194513</td>\n",
       "      <td>-0.751129</td>\n",
       "      <td>-0.999459</td>\n",
       "    </tr>\n",
       "    <tr>\n",
       "      <th>2013-01-03</th>\n",
       "      <td>1.747897</td>\n",
       "      <td>-0.116592</td>\n",
       "      <td>-1.051322</td>\n",
       "      <td>0.882318</td>\n",
       "    </tr>\n",
       "    <tr>\n",
       "      <th>2013-01-06</th>\n",
       "      <td>0.216414</td>\n",
       "      <td>-0.685370</td>\n",
       "      <td>0.355004</td>\n",
       "      <td>-0.358879</td>\n",
       "    </tr>\n",
       "    <tr>\n",
       "      <th>2013-01-02</th>\n",
       "      <td>-0.616888</td>\n",
       "      <td>-1.230847</td>\n",
       "      <td>0.771095</td>\n",
       "      <td>0.895578</td>\n",
       "    </tr>\n",
       "  </tbody>\n",
       "</table>\n",
       "</div>"
      ],
      "text/plain": [
       "                   A         B         C         D\n",
       "2013-01-01 -1.125114  2.131812  0.406216 -0.086927\n",
       "2013-01-05  2.028130  0.887846  0.316081  1.074601\n",
       "2013-01-04 -0.610102  0.194513 -0.751129 -0.999459\n",
       "2013-01-03  1.747897 -0.116592 -1.051322  0.882318\n",
       "2013-01-06  0.216414 -0.685370  0.355004 -0.358879\n",
       "2013-01-02 -0.616888 -1.230847  0.771095  0.895578"
      ]
     },
     "execution_count": 129,
     "metadata": {},
     "output_type": "execute_result"
    }
   ],
   "source": [
    "df"
   ]
  },
  {
   "cell_type": "markdown",
   "id": "bc3f162c",
   "metadata": {},
   "source": [
    "### 데이터 선택"
   ]
  },
  {
   "cell_type": "code",
   "execution_count": 130,
   "id": "604630ae",
   "metadata": {},
   "outputs": [
    {
     "data": {
      "text/html": [
       "<div>\n",
       "<style scoped>\n",
       "    .dataframe tbody tr th:only-of-type {\n",
       "        vertical-align: middle;\n",
       "    }\n",
       "\n",
       "    .dataframe tbody tr th {\n",
       "        vertical-align: top;\n",
       "    }\n",
       "\n",
       "    .dataframe thead th {\n",
       "        text-align: right;\n",
       "    }\n",
       "</style>\n",
       "<table border=\"1\" class=\"dataframe\">\n",
       "  <thead>\n",
       "    <tr style=\"text-align: right;\">\n",
       "      <th></th>\n",
       "      <th>A</th>\n",
       "      <th>B</th>\n",
       "      <th>C</th>\n",
       "      <th>D</th>\n",
       "    </tr>\n",
       "  </thead>\n",
       "  <tbody>\n",
       "    <tr>\n",
       "      <th>2013-01-01</th>\n",
       "      <td>-1.125114</td>\n",
       "      <td>2.131812</td>\n",
       "      <td>0.406216</td>\n",
       "      <td>-0.086927</td>\n",
       "    </tr>\n",
       "    <tr>\n",
       "      <th>2013-01-05</th>\n",
       "      <td>2.028130</td>\n",
       "      <td>0.887846</td>\n",
       "      <td>0.316081</td>\n",
       "      <td>1.074601</td>\n",
       "    </tr>\n",
       "    <tr>\n",
       "      <th>2013-01-04</th>\n",
       "      <td>-0.610102</td>\n",
       "      <td>0.194513</td>\n",
       "      <td>-0.751129</td>\n",
       "      <td>-0.999459</td>\n",
       "    </tr>\n",
       "    <tr>\n",
       "      <th>2013-01-03</th>\n",
       "      <td>1.747897</td>\n",
       "      <td>-0.116592</td>\n",
       "      <td>-1.051322</td>\n",
       "      <td>0.882318</td>\n",
       "    </tr>\n",
       "    <tr>\n",
       "      <th>2013-01-06</th>\n",
       "      <td>0.216414</td>\n",
       "      <td>-0.685370</td>\n",
       "      <td>0.355004</td>\n",
       "      <td>-0.358879</td>\n",
       "    </tr>\n",
       "    <tr>\n",
       "      <th>2013-01-02</th>\n",
       "      <td>-0.616888</td>\n",
       "      <td>-1.230847</td>\n",
       "      <td>0.771095</td>\n",
       "      <td>0.895578</td>\n",
       "    </tr>\n",
       "  </tbody>\n",
       "</table>\n",
       "</div>"
      ],
      "text/plain": [
       "                   A         B         C         D\n",
       "2013-01-01 -1.125114  2.131812  0.406216 -0.086927\n",
       "2013-01-05  2.028130  0.887846  0.316081  1.074601\n",
       "2013-01-04 -0.610102  0.194513 -0.751129 -0.999459\n",
       "2013-01-03  1.747897 -0.116592 -1.051322  0.882318\n",
       "2013-01-06  0.216414 -0.685370  0.355004 -0.358879\n",
       "2013-01-02 -0.616888 -1.230847  0.771095  0.895578"
      ]
     },
     "execution_count": 130,
     "metadata": {},
     "output_type": "execute_result"
    }
   ],
   "source": [
    "df"
   ]
  },
  {
   "cell_type": "code",
   "execution_count": 131,
   "id": "b90caae6",
   "metadata": {},
   "outputs": [
    {
     "data": {
      "text/plain": [
       "2013-01-01   -1.125114\n",
       "2013-01-05    2.028130\n",
       "2013-01-04   -0.610102\n",
       "2013-01-03    1.747897\n",
       "2013-01-06    0.216414\n",
       "2013-01-02   -0.616888\n",
       "Name: A, dtype: float64"
      ]
     },
     "execution_count": 131,
     "metadata": {},
     "output_type": "execute_result"
    }
   ],
   "source": [
    "# 한 개 컬럼 선택\n",
    "df[\"A\"]"
   ]
  },
  {
   "cell_type": "code",
   "execution_count": 132,
   "id": "b2910876",
   "metadata": {},
   "outputs": [
    {
     "data": {
      "text/plain": [
       "pandas.core.series.Series"
      ]
     },
     "execution_count": 132,
     "metadata": {},
     "output_type": "execute_result"
    }
   ],
   "source": [
    "type(df[\"A\"])"
   ]
  },
  {
   "cell_type": "code",
   "execution_count": 133,
   "id": "0ed9e8c6",
   "metadata": {},
   "outputs": [
    {
     "data": {
      "text/plain": [
       "2013-01-01   -1.125114\n",
       "2013-01-05    2.028130\n",
       "2013-01-04   -0.610102\n",
       "2013-01-03    1.747897\n",
       "2013-01-06    0.216414\n",
       "2013-01-02   -0.616888\n",
       "Name: A, dtype: float64"
      ]
     },
     "execution_count": 133,
     "metadata": {},
     "output_type": "execute_result"
    }
   ],
   "source": [
    "df.A #컬럼명이 숫자인 경우에는 불가 문자인 경우에 가능."
   ]
  },
  {
   "cell_type": "code",
   "execution_count": 134,
   "id": "ae34cdda",
   "metadata": {},
   "outputs": [
    {
     "data": {
      "text/html": [
       "<div>\n",
       "<style scoped>\n",
       "    .dataframe tbody tr th:only-of-type {\n",
       "        vertical-align: middle;\n",
       "    }\n",
       "\n",
       "    .dataframe tbody tr th {\n",
       "        vertical-align: top;\n",
       "    }\n",
       "\n",
       "    .dataframe thead th {\n",
       "        text-align: right;\n",
       "    }\n",
       "</style>\n",
       "<table border=\"1\" class=\"dataframe\">\n",
       "  <thead>\n",
       "    <tr style=\"text-align: right;\">\n",
       "      <th></th>\n",
       "      <th>A</th>\n",
       "      <th>B</th>\n",
       "    </tr>\n",
       "  </thead>\n",
       "  <tbody>\n",
       "    <tr>\n",
       "      <th>2013-01-01</th>\n",
       "      <td>-1.125114</td>\n",
       "      <td>2.131812</td>\n",
       "    </tr>\n",
       "    <tr>\n",
       "      <th>2013-01-05</th>\n",
       "      <td>2.028130</td>\n",
       "      <td>0.887846</td>\n",
       "    </tr>\n",
       "    <tr>\n",
       "      <th>2013-01-04</th>\n",
       "      <td>-0.610102</td>\n",
       "      <td>0.194513</td>\n",
       "    </tr>\n",
       "    <tr>\n",
       "      <th>2013-01-03</th>\n",
       "      <td>1.747897</td>\n",
       "      <td>-0.116592</td>\n",
       "    </tr>\n",
       "    <tr>\n",
       "      <th>2013-01-06</th>\n",
       "      <td>0.216414</td>\n",
       "      <td>-0.685370</td>\n",
       "    </tr>\n",
       "    <tr>\n",
       "      <th>2013-01-02</th>\n",
       "      <td>-0.616888</td>\n",
       "      <td>-1.230847</td>\n",
       "    </tr>\n",
       "  </tbody>\n",
       "</table>\n",
       "</div>"
      ],
      "text/plain": [
       "                   A         B\n",
       "2013-01-01 -1.125114  2.131812\n",
       "2013-01-05  2.028130  0.887846\n",
       "2013-01-04 -0.610102  0.194513\n",
       "2013-01-03  1.747897 -0.116592\n",
       "2013-01-06  0.216414 -0.685370\n",
       "2013-01-02 -0.616888 -1.230847"
      ]
     },
     "execution_count": 134,
     "metadata": {},
     "output_type": "execute_result"
    }
   ],
   "source": [
    "#두 개 이상 컬럼 선택\n",
    "df[[\"A\", \"B\"]] #리스트 형태로 대괄호 써주어야 함"
   ]
  },
  {
   "cell_type": "markdown",
   "id": "12dede71",
   "metadata": {},
   "source": [
    "### offset index\n",
    "- [n:m] : n부터 m-1 까지\n",
    "- 인덱스나 컬럼의 이름으로 slice 하는 경우는 끝을 포함합니다."
   ]
  },
  {
   "cell_type": "code",
   "execution_count": 135,
   "id": "57f3dac2",
   "metadata": {},
   "outputs": [
    {
     "data": {
      "text/html": [
       "<div>\n",
       "<style scoped>\n",
       "    .dataframe tbody tr th:only-of-type {\n",
       "        vertical-align: middle;\n",
       "    }\n",
       "\n",
       "    .dataframe tbody tr th {\n",
       "        vertical-align: top;\n",
       "    }\n",
       "\n",
       "    .dataframe thead th {\n",
       "        text-align: right;\n",
       "    }\n",
       "</style>\n",
       "<table border=\"1\" class=\"dataframe\">\n",
       "  <thead>\n",
       "    <tr style=\"text-align: right;\">\n",
       "      <th></th>\n",
       "      <th>A</th>\n",
       "      <th>B</th>\n",
       "      <th>C</th>\n",
       "      <th>D</th>\n",
       "    </tr>\n",
       "  </thead>\n",
       "  <tbody>\n",
       "    <tr>\n",
       "      <th>2013-01-01</th>\n",
       "      <td>-1.125114</td>\n",
       "      <td>2.131812</td>\n",
       "      <td>0.406216</td>\n",
       "      <td>-0.086927</td>\n",
       "    </tr>\n",
       "    <tr>\n",
       "      <th>2013-01-05</th>\n",
       "      <td>2.028130</td>\n",
       "      <td>0.887846</td>\n",
       "      <td>0.316081</td>\n",
       "      <td>1.074601</td>\n",
       "    </tr>\n",
       "    <tr>\n",
       "      <th>2013-01-04</th>\n",
       "      <td>-0.610102</td>\n",
       "      <td>0.194513</td>\n",
       "      <td>-0.751129</td>\n",
       "      <td>-0.999459</td>\n",
       "    </tr>\n",
       "  </tbody>\n",
       "</table>\n",
       "</div>"
      ],
      "text/plain": [
       "                   A         B         C         D\n",
       "2013-01-01 -1.125114  2.131812  0.406216 -0.086927\n",
       "2013-01-05  2.028130  0.887846  0.316081  1.074601\n",
       "2013-01-04 -0.610102  0.194513 -0.751129 -0.999459"
      ]
     },
     "execution_count": 135,
     "metadata": {},
     "output_type": "execute_result"
    }
   ],
   "source": [
    "df[0:3]"
   ]
  },
  {
   "cell_type": "code",
   "execution_count": 137,
   "id": "f8604674",
   "metadata": {},
   "outputs": [
    {
     "data": {
      "text/html": [
       "<div>\n",
       "<style scoped>\n",
       "    .dataframe tbody tr th:only-of-type {\n",
       "        vertical-align: middle;\n",
       "    }\n",
       "\n",
       "    .dataframe tbody tr th {\n",
       "        vertical-align: top;\n",
       "    }\n",
       "\n",
       "    .dataframe thead th {\n",
       "        text-align: right;\n",
       "    }\n",
       "</style>\n",
       "<table border=\"1\" class=\"dataframe\">\n",
       "  <thead>\n",
       "    <tr style=\"text-align: right;\">\n",
       "      <th></th>\n",
       "      <th>A</th>\n",
       "      <th>B</th>\n",
       "      <th>C</th>\n",
       "      <th>D</th>\n",
       "    </tr>\n",
       "  </thead>\n",
       "  <tbody>\n",
       "    <tr>\n",
       "      <th>2013-01-01</th>\n",
       "      <td>-1.125114</td>\n",
       "      <td>2.131812</td>\n",
       "      <td>0.406216</td>\n",
       "      <td>-0.086927</td>\n",
       "    </tr>\n",
       "    <tr>\n",
       "      <th>2013-01-04</th>\n",
       "      <td>-0.610102</td>\n",
       "      <td>0.194513</td>\n",
       "      <td>-0.751129</td>\n",
       "      <td>-0.999459</td>\n",
       "    </tr>\n",
       "    <tr>\n",
       "      <th>2013-01-03</th>\n",
       "      <td>1.747897</td>\n",
       "      <td>-0.116592</td>\n",
       "      <td>-1.051322</td>\n",
       "      <td>0.882318</td>\n",
       "    </tr>\n",
       "    <tr>\n",
       "      <th>2013-01-02</th>\n",
       "      <td>-0.616888</td>\n",
       "      <td>-1.230847</td>\n",
       "      <td>0.771095</td>\n",
       "      <td>0.895578</td>\n",
       "    </tr>\n",
       "  </tbody>\n",
       "</table>\n",
       "</div>"
      ],
      "text/plain": [
       "                   A         B         C         D\n",
       "2013-01-01 -1.125114  2.131812  0.406216 -0.086927\n",
       "2013-01-04 -0.610102  0.194513 -0.751129 -0.999459\n",
       "2013-01-03  1.747897 -0.116592 -1.051322  0.882318\n",
       "2013-01-02 -0.616888 -1.230847  0.771095  0.895578"
      ]
     },
     "execution_count": 137,
     "metadata": {},
     "output_type": "execute_result"
    }
   ],
   "source": [
    "df[\"20130101\":\"20130104\"]"
   ]
  },
  {
   "cell_type": "markdown",
   "id": "8a76901a",
   "metadata": {},
   "source": [
    "- loc : location\n",
    "- index 이름으로 특정 행, 열을 선택합니다"
   ]
  },
  {
   "cell_type": "code",
   "execution_count": 138,
   "id": "4de24263",
   "metadata": {},
   "outputs": [
    {
     "data": {
      "text/html": [
       "<div>\n",
       "<style scoped>\n",
       "    .dataframe tbody tr th:only-of-type {\n",
       "        vertical-align: middle;\n",
       "    }\n",
       "\n",
       "    .dataframe tbody tr th {\n",
       "        vertical-align: top;\n",
       "    }\n",
       "\n",
       "    .dataframe thead th {\n",
       "        text-align: right;\n",
       "    }\n",
       "</style>\n",
       "<table border=\"1\" class=\"dataframe\">\n",
       "  <thead>\n",
       "    <tr style=\"text-align: right;\">\n",
       "      <th></th>\n",
       "      <th>A</th>\n",
       "      <th>B</th>\n",
       "      <th>C</th>\n",
       "      <th>D</th>\n",
       "    </tr>\n",
       "  </thead>\n",
       "  <tbody>\n",
       "    <tr>\n",
       "      <th>2013-01-01</th>\n",
       "      <td>-1.125114</td>\n",
       "      <td>2.131812</td>\n",
       "      <td>0.406216</td>\n",
       "      <td>-0.086927</td>\n",
       "    </tr>\n",
       "    <tr>\n",
       "      <th>2013-01-05</th>\n",
       "      <td>2.028130</td>\n",
       "      <td>0.887846</td>\n",
       "      <td>0.316081</td>\n",
       "      <td>1.074601</td>\n",
       "    </tr>\n",
       "    <tr>\n",
       "      <th>2013-01-04</th>\n",
       "      <td>-0.610102</td>\n",
       "      <td>0.194513</td>\n",
       "      <td>-0.751129</td>\n",
       "      <td>-0.999459</td>\n",
       "    </tr>\n",
       "    <tr>\n",
       "      <th>2013-01-03</th>\n",
       "      <td>1.747897</td>\n",
       "      <td>-0.116592</td>\n",
       "      <td>-1.051322</td>\n",
       "      <td>0.882318</td>\n",
       "    </tr>\n",
       "    <tr>\n",
       "      <th>2013-01-06</th>\n",
       "      <td>0.216414</td>\n",
       "      <td>-0.685370</td>\n",
       "      <td>0.355004</td>\n",
       "      <td>-0.358879</td>\n",
       "    </tr>\n",
       "    <tr>\n",
       "      <th>2013-01-02</th>\n",
       "      <td>-0.616888</td>\n",
       "      <td>-1.230847</td>\n",
       "      <td>0.771095</td>\n",
       "      <td>0.895578</td>\n",
       "    </tr>\n",
       "  </tbody>\n",
       "</table>\n",
       "</div>"
      ],
      "text/plain": [
       "                   A         B         C         D\n",
       "2013-01-01 -1.125114  2.131812  0.406216 -0.086927\n",
       "2013-01-05  2.028130  0.887846  0.316081  1.074601\n",
       "2013-01-04 -0.610102  0.194513 -0.751129 -0.999459\n",
       "2013-01-03  1.747897 -0.116592 -1.051322  0.882318\n",
       "2013-01-06  0.216414 -0.685370  0.355004 -0.358879\n",
       "2013-01-02 -0.616888 -1.230847  0.771095  0.895578"
      ]
     },
     "execution_count": 138,
     "metadata": {},
     "output_type": "execute_result"
    }
   ],
   "source": [
    "df"
   ]
  },
  {
   "cell_type": "code",
   "execution_count": 139,
   "id": "f313bfb1",
   "metadata": {},
   "outputs": [
    {
     "data": {
      "text/html": [
       "<div>\n",
       "<style scoped>\n",
       "    .dataframe tbody tr th:only-of-type {\n",
       "        vertical-align: middle;\n",
       "    }\n",
       "\n",
       "    .dataframe tbody tr th {\n",
       "        vertical-align: top;\n",
       "    }\n",
       "\n",
       "    .dataframe thead th {\n",
       "        text-align: right;\n",
       "    }\n",
       "</style>\n",
       "<table border=\"1\" class=\"dataframe\">\n",
       "  <thead>\n",
       "    <tr style=\"text-align: right;\">\n",
       "      <th></th>\n",
       "      <th>A</th>\n",
       "      <th>B</th>\n",
       "    </tr>\n",
       "  </thead>\n",
       "  <tbody>\n",
       "    <tr>\n",
       "      <th>2013-01-01</th>\n",
       "      <td>-1.125114</td>\n",
       "      <td>2.131812</td>\n",
       "    </tr>\n",
       "    <tr>\n",
       "      <th>2013-01-05</th>\n",
       "      <td>2.028130</td>\n",
       "      <td>0.887846</td>\n",
       "    </tr>\n",
       "    <tr>\n",
       "      <th>2013-01-04</th>\n",
       "      <td>-0.610102</td>\n",
       "      <td>0.194513</td>\n",
       "    </tr>\n",
       "    <tr>\n",
       "      <th>2013-01-03</th>\n",
       "      <td>1.747897</td>\n",
       "      <td>-0.116592</td>\n",
       "    </tr>\n",
       "    <tr>\n",
       "      <th>2013-01-06</th>\n",
       "      <td>0.216414</td>\n",
       "      <td>-0.685370</td>\n",
       "    </tr>\n",
       "    <tr>\n",
       "      <th>2013-01-02</th>\n",
       "      <td>-0.616888</td>\n",
       "      <td>-1.230847</td>\n",
       "    </tr>\n",
       "  </tbody>\n",
       "</table>\n",
       "</div>"
      ],
      "text/plain": [
       "                   A         B\n",
       "2013-01-01 -1.125114  2.131812\n",
       "2013-01-05  2.028130  0.887846\n",
       "2013-01-04 -0.610102  0.194513\n",
       "2013-01-03  1.747897 -0.116592\n",
       "2013-01-06  0.216414 -0.685370\n",
       "2013-01-02 -0.616888 -1.230847"
      ]
     },
     "execution_count": 139,
     "metadata": {},
     "output_type": "execute_result"
    }
   ],
   "source": [
    "df.loc[:, [\"A\", \"B\"]] #index는 전부 column은 A B만 가져오기"
   ]
  },
  {
   "cell_type": "code",
   "execution_count": 140,
   "id": "260f24e3",
   "metadata": {},
   "outputs": [
    {
     "data": {
      "text/html": [
       "<div>\n",
       "<style scoped>\n",
       "    .dataframe tbody tr th:only-of-type {\n",
       "        vertical-align: middle;\n",
       "    }\n",
       "\n",
       "    .dataframe tbody tr th {\n",
       "        vertical-align: top;\n",
       "    }\n",
       "\n",
       "    .dataframe thead th {\n",
       "        text-align: right;\n",
       "    }\n",
       "</style>\n",
       "<table border=\"1\" class=\"dataframe\">\n",
       "  <thead>\n",
       "    <tr style=\"text-align: right;\">\n",
       "      <th></th>\n",
       "      <th>A</th>\n",
       "      <th>D</th>\n",
       "    </tr>\n",
       "  </thead>\n",
       "  <tbody>\n",
       "    <tr>\n",
       "      <th>2013-01-04</th>\n",
       "      <td>-0.610102</td>\n",
       "      <td>-0.999459</td>\n",
       "    </tr>\n",
       "    <tr>\n",
       "      <th>2013-01-03</th>\n",
       "      <td>1.747897</td>\n",
       "      <td>0.882318</td>\n",
       "    </tr>\n",
       "    <tr>\n",
       "      <th>2013-01-02</th>\n",
       "      <td>-0.616888</td>\n",
       "      <td>0.895578</td>\n",
       "    </tr>\n",
       "  </tbody>\n",
       "</table>\n",
       "</div>"
      ],
      "text/plain": [
       "                   A         D\n",
       "2013-01-04 -0.610102 -0.999459\n",
       "2013-01-03  1.747897  0.882318\n",
       "2013-01-02 -0.616888  0.895578"
      ]
     },
     "execution_count": 140,
     "metadata": {},
     "output_type": "execute_result"
    }
   ],
   "source": [
    "df.loc[\"20130102\":\"20130104\", [\"A\", \"D\"]]"
   ]
  },
  {
   "cell_type": "code",
   "execution_count": 141,
   "id": "9bb2926e",
   "metadata": {},
   "outputs": [
    {
     "data": {
      "text/html": [
       "<div>\n",
       "<style scoped>\n",
       "    .dataframe tbody tr th:only-of-type {\n",
       "        vertical-align: middle;\n",
       "    }\n",
       "\n",
       "    .dataframe tbody tr th {\n",
       "        vertical-align: top;\n",
       "    }\n",
       "\n",
       "    .dataframe thead th {\n",
       "        text-align: right;\n",
       "    }\n",
       "</style>\n",
       "<table border=\"1\" class=\"dataframe\">\n",
       "  <thead>\n",
       "    <tr style=\"text-align: right;\">\n",
       "      <th></th>\n",
       "      <th>A</th>\n",
       "      <th>B</th>\n",
       "      <th>C</th>\n",
       "      <th>D</th>\n",
       "    </tr>\n",
       "  </thead>\n",
       "  <tbody>\n",
       "    <tr>\n",
       "      <th>2013-01-04</th>\n",
       "      <td>-0.610102</td>\n",
       "      <td>0.194513</td>\n",
       "      <td>-0.751129</td>\n",
       "      <td>-0.999459</td>\n",
       "    </tr>\n",
       "    <tr>\n",
       "      <th>2013-01-03</th>\n",
       "      <td>1.747897</td>\n",
       "      <td>-0.116592</td>\n",
       "      <td>-1.051322</td>\n",
       "      <td>0.882318</td>\n",
       "    </tr>\n",
       "    <tr>\n",
       "      <th>2013-01-02</th>\n",
       "      <td>-0.616888</td>\n",
       "      <td>-1.230847</td>\n",
       "      <td>0.771095</td>\n",
       "      <td>0.895578</td>\n",
       "    </tr>\n",
       "  </tbody>\n",
       "</table>\n",
       "</div>"
      ],
      "text/plain": [
       "                   A         B         C         D\n",
       "2013-01-04 -0.610102  0.194513 -0.751129 -0.999459\n",
       "2013-01-03  1.747897 -0.116592 -1.051322  0.882318\n",
       "2013-01-02 -0.616888 -1.230847  0.771095  0.895578"
      ]
     },
     "execution_count": 141,
     "metadata": {},
     "output_type": "execute_result"
    }
   ],
   "source": [
    "df.loc[\"20130102\":\"20130104\", \"A\":\"D\"]"
   ]
  },
  {
   "cell_type": "code",
   "execution_count": 142,
   "id": "8e4f5346",
   "metadata": {},
   "outputs": [
    {
     "data": {
      "text/plain": [
       "A   -0.616888\n",
       "B   -1.230847\n",
       "Name: 2013-01-02 00:00:00, dtype: float64"
      ]
     },
     "execution_count": 142,
     "metadata": {},
     "output_type": "execute_result"
    }
   ],
   "source": [
    "df.loc[\"20130102\", [\"A\", \"B\"]]"
   ]
  },
  {
   "cell_type": "markdown",
   "id": "41cee62a",
   "metadata": {},
   "source": [
    "- iloc : integer location\n",
    "    - 컴퓨터가 인식하는 인덱스 값으로 선택"
   ]
  },
  {
   "cell_type": "code",
   "execution_count": 143,
   "id": "06bc3267",
   "metadata": {},
   "outputs": [
    {
     "data": {
      "text/html": [
       "<div>\n",
       "<style scoped>\n",
       "    .dataframe tbody tr th:only-of-type {\n",
       "        vertical-align: middle;\n",
       "    }\n",
       "\n",
       "    .dataframe tbody tr th {\n",
       "        vertical-align: top;\n",
       "    }\n",
       "\n",
       "    .dataframe thead th {\n",
       "        text-align: right;\n",
       "    }\n",
       "</style>\n",
       "<table border=\"1\" class=\"dataframe\">\n",
       "  <thead>\n",
       "    <tr style=\"text-align: right;\">\n",
       "      <th></th>\n",
       "      <th>A</th>\n",
       "      <th>B</th>\n",
       "      <th>C</th>\n",
       "      <th>D</th>\n",
       "    </tr>\n",
       "  </thead>\n",
       "  <tbody>\n",
       "    <tr>\n",
       "      <th>2013-01-01</th>\n",
       "      <td>-1.125114</td>\n",
       "      <td>2.131812</td>\n",
       "      <td>0.406216</td>\n",
       "      <td>-0.086927</td>\n",
       "    </tr>\n",
       "    <tr>\n",
       "      <th>2013-01-05</th>\n",
       "      <td>2.028130</td>\n",
       "      <td>0.887846</td>\n",
       "      <td>0.316081</td>\n",
       "      <td>1.074601</td>\n",
       "    </tr>\n",
       "    <tr>\n",
       "      <th>2013-01-04</th>\n",
       "      <td>-0.610102</td>\n",
       "      <td>0.194513</td>\n",
       "      <td>-0.751129</td>\n",
       "      <td>-0.999459</td>\n",
       "    </tr>\n",
       "    <tr>\n",
       "      <th>2013-01-03</th>\n",
       "      <td>1.747897</td>\n",
       "      <td>-0.116592</td>\n",
       "      <td>-1.051322</td>\n",
       "      <td>0.882318</td>\n",
       "    </tr>\n",
       "    <tr>\n",
       "      <th>2013-01-06</th>\n",
       "      <td>0.216414</td>\n",
       "      <td>-0.685370</td>\n",
       "      <td>0.355004</td>\n",
       "      <td>-0.358879</td>\n",
       "    </tr>\n",
       "    <tr>\n",
       "      <th>2013-01-02</th>\n",
       "      <td>-0.616888</td>\n",
       "      <td>-1.230847</td>\n",
       "      <td>0.771095</td>\n",
       "      <td>0.895578</td>\n",
       "    </tr>\n",
       "  </tbody>\n",
       "</table>\n",
       "</div>"
      ],
      "text/plain": [
       "                   A         B         C         D\n",
       "2013-01-01 -1.125114  2.131812  0.406216 -0.086927\n",
       "2013-01-05  2.028130  0.887846  0.316081  1.074601\n",
       "2013-01-04 -0.610102  0.194513 -0.751129 -0.999459\n",
       "2013-01-03  1.747897 -0.116592 -1.051322  0.882318\n",
       "2013-01-06  0.216414 -0.685370  0.355004 -0.358879\n",
       "2013-01-02 -0.616888 -1.230847  0.771095  0.895578"
      ]
     },
     "execution_count": 143,
     "metadata": {},
     "output_type": "execute_result"
    }
   ],
   "source": [
    "df"
   ]
  },
  {
   "cell_type": "code",
   "execution_count": 144,
   "id": "0f4cf5b8",
   "metadata": {},
   "outputs": [
    {
     "data": {
      "text/plain": [
       "A    1.747897\n",
       "B   -0.116592\n",
       "C   -1.051322\n",
       "D    0.882318\n",
       "Name: 2013-01-03 00:00:00, dtype: float64"
      ]
     },
     "execution_count": 144,
     "metadata": {},
     "output_type": "execute_result"
    }
   ],
   "source": [
    "df.iloc[3]"
   ]
  },
  {
   "cell_type": "code",
   "execution_count": 145,
   "id": "22a630e6",
   "metadata": {},
   "outputs": [
    {
     "data": {
      "text/plain": [
       "-1.0513215450651867"
      ]
     },
     "execution_count": 145,
     "metadata": {},
     "output_type": "execute_result"
    }
   ],
   "source": [
    "df.iloc[3, 2]"
   ]
  },
  {
   "cell_type": "code",
   "execution_count": 146,
   "id": "07877c41",
   "metadata": {},
   "outputs": [
    {
     "data": {
      "text/html": [
       "<div>\n",
       "<style scoped>\n",
       "    .dataframe tbody tr th:only-of-type {\n",
       "        vertical-align: middle;\n",
       "    }\n",
       "\n",
       "    .dataframe tbody tr th {\n",
       "        vertical-align: top;\n",
       "    }\n",
       "\n",
       "    .dataframe thead th {\n",
       "        text-align: right;\n",
       "    }\n",
       "</style>\n",
       "<table border=\"1\" class=\"dataframe\">\n",
       "  <thead>\n",
       "    <tr style=\"text-align: right;\">\n",
       "      <th></th>\n",
       "      <th>A</th>\n",
       "      <th>B</th>\n",
       "    </tr>\n",
       "  </thead>\n",
       "  <tbody>\n",
       "    <tr>\n",
       "      <th>2013-01-03</th>\n",
       "      <td>1.747897</td>\n",
       "      <td>-0.116592</td>\n",
       "    </tr>\n",
       "    <tr>\n",
       "      <th>2013-01-06</th>\n",
       "      <td>0.216414</td>\n",
       "      <td>-0.685370</td>\n",
       "    </tr>\n",
       "  </tbody>\n",
       "</table>\n",
       "</div>"
      ],
      "text/plain": [
       "                   A         B\n",
       "2013-01-03  1.747897 -0.116592\n",
       "2013-01-06  0.216414 -0.685370"
      ]
     },
     "execution_count": 146,
     "metadata": {},
     "output_type": "execute_result"
    }
   ],
   "source": [
    "df.iloc[3:5, 0:2]"
   ]
  },
  {
   "cell_type": "code",
   "execution_count": 147,
   "id": "f7ede054",
   "metadata": {},
   "outputs": [
    {
     "data": {
      "text/html": [
       "<div>\n",
       "<style scoped>\n",
       "    .dataframe tbody tr th:only-of-type {\n",
       "        vertical-align: middle;\n",
       "    }\n",
       "\n",
       "    .dataframe tbody tr th {\n",
       "        vertical-align: top;\n",
       "    }\n",
       "\n",
       "    .dataframe thead th {\n",
       "        text-align: right;\n",
       "    }\n",
       "</style>\n",
       "<table border=\"1\" class=\"dataframe\">\n",
       "  <thead>\n",
       "    <tr style=\"text-align: right;\">\n",
       "      <th></th>\n",
       "      <th>A</th>\n",
       "      <th>C</th>\n",
       "    </tr>\n",
       "  </thead>\n",
       "  <tbody>\n",
       "    <tr>\n",
       "      <th>2013-01-05</th>\n",
       "      <td>2.028130</td>\n",
       "      <td>0.316081</td>\n",
       "    </tr>\n",
       "    <tr>\n",
       "      <th>2013-01-04</th>\n",
       "      <td>-0.610102</td>\n",
       "      <td>-0.751129</td>\n",
       "    </tr>\n",
       "    <tr>\n",
       "      <th>2013-01-06</th>\n",
       "      <td>0.216414</td>\n",
       "      <td>0.355004</td>\n",
       "    </tr>\n",
       "  </tbody>\n",
       "</table>\n",
       "</div>"
      ],
      "text/plain": [
       "                   A         C\n",
       "2013-01-05  2.028130  0.316081\n",
       "2013-01-04 -0.610102 -0.751129\n",
       "2013-01-06  0.216414  0.355004"
      ]
     },
     "execution_count": 147,
     "metadata": {},
     "output_type": "execute_result"
    }
   ],
   "source": [
    "df.iloc[[1,2,4],[0,2]]"
   ]
  },
  {
   "cell_type": "code",
   "execution_count": 148,
   "id": "b1501aae",
   "metadata": {},
   "outputs": [
    {
     "data": {
      "text/html": [
       "<div>\n",
       "<style scoped>\n",
       "    .dataframe tbody tr th:only-of-type {\n",
       "        vertical-align: middle;\n",
       "    }\n",
       "\n",
       "    .dataframe tbody tr th {\n",
       "        vertical-align: top;\n",
       "    }\n",
       "\n",
       "    .dataframe thead th {\n",
       "        text-align: right;\n",
       "    }\n",
       "</style>\n",
       "<table border=\"1\" class=\"dataframe\">\n",
       "  <thead>\n",
       "    <tr style=\"text-align: right;\">\n",
       "      <th></th>\n",
       "      <th>B</th>\n",
       "      <th>C</th>\n",
       "    </tr>\n",
       "  </thead>\n",
       "  <tbody>\n",
       "    <tr>\n",
       "      <th>2013-01-01</th>\n",
       "      <td>2.131812</td>\n",
       "      <td>0.406216</td>\n",
       "    </tr>\n",
       "    <tr>\n",
       "      <th>2013-01-05</th>\n",
       "      <td>0.887846</td>\n",
       "      <td>0.316081</td>\n",
       "    </tr>\n",
       "    <tr>\n",
       "      <th>2013-01-04</th>\n",
       "      <td>0.194513</td>\n",
       "      <td>-0.751129</td>\n",
       "    </tr>\n",
       "    <tr>\n",
       "      <th>2013-01-03</th>\n",
       "      <td>-0.116592</td>\n",
       "      <td>-1.051322</td>\n",
       "    </tr>\n",
       "    <tr>\n",
       "      <th>2013-01-06</th>\n",
       "      <td>-0.685370</td>\n",
       "      <td>0.355004</td>\n",
       "    </tr>\n",
       "    <tr>\n",
       "      <th>2013-01-02</th>\n",
       "      <td>-1.230847</td>\n",
       "      <td>0.771095</td>\n",
       "    </tr>\n",
       "  </tbody>\n",
       "</table>\n",
       "</div>"
      ],
      "text/plain": [
       "                   B         C\n",
       "2013-01-01  2.131812  0.406216\n",
       "2013-01-05  0.887846  0.316081\n",
       "2013-01-04  0.194513 -0.751129\n",
       "2013-01-03 -0.116592 -1.051322\n",
       "2013-01-06 -0.685370  0.355004\n",
       "2013-01-02 -1.230847  0.771095"
      ]
     },
     "execution_count": 148,
     "metadata": {},
     "output_type": "execute_result"
    }
   ],
   "source": [
    "df.iloc[:, 1:3]"
   ]
  },
  {
   "cell_type": "markdown",
   "id": "39e8ffda",
   "metadata": {},
   "source": [
    "### condition"
   ]
  },
  {
   "cell_type": "code",
   "execution_count": 149,
   "id": "eaf8e41d",
   "metadata": {},
   "outputs": [
    {
     "data": {
      "text/html": [
       "<div>\n",
       "<style scoped>\n",
       "    .dataframe tbody tr th:only-of-type {\n",
       "        vertical-align: middle;\n",
       "    }\n",
       "\n",
       "    .dataframe tbody tr th {\n",
       "        vertical-align: top;\n",
       "    }\n",
       "\n",
       "    .dataframe thead th {\n",
       "        text-align: right;\n",
       "    }\n",
       "</style>\n",
       "<table border=\"1\" class=\"dataframe\">\n",
       "  <thead>\n",
       "    <tr style=\"text-align: right;\">\n",
       "      <th></th>\n",
       "      <th>A</th>\n",
       "      <th>B</th>\n",
       "      <th>C</th>\n",
       "      <th>D</th>\n",
       "    </tr>\n",
       "  </thead>\n",
       "  <tbody>\n",
       "    <tr>\n",
       "      <th>2013-01-01</th>\n",
       "      <td>-1.125114</td>\n",
       "      <td>2.131812</td>\n",
       "      <td>0.406216</td>\n",
       "      <td>-0.086927</td>\n",
       "    </tr>\n",
       "    <tr>\n",
       "      <th>2013-01-05</th>\n",
       "      <td>2.028130</td>\n",
       "      <td>0.887846</td>\n",
       "      <td>0.316081</td>\n",
       "      <td>1.074601</td>\n",
       "    </tr>\n",
       "    <tr>\n",
       "      <th>2013-01-04</th>\n",
       "      <td>-0.610102</td>\n",
       "      <td>0.194513</td>\n",
       "      <td>-0.751129</td>\n",
       "      <td>-0.999459</td>\n",
       "    </tr>\n",
       "    <tr>\n",
       "      <th>2013-01-03</th>\n",
       "      <td>1.747897</td>\n",
       "      <td>-0.116592</td>\n",
       "      <td>-1.051322</td>\n",
       "      <td>0.882318</td>\n",
       "    </tr>\n",
       "    <tr>\n",
       "      <th>2013-01-06</th>\n",
       "      <td>0.216414</td>\n",
       "      <td>-0.685370</td>\n",
       "      <td>0.355004</td>\n",
       "      <td>-0.358879</td>\n",
       "    </tr>\n",
       "    <tr>\n",
       "      <th>2013-01-02</th>\n",
       "      <td>-0.616888</td>\n",
       "      <td>-1.230847</td>\n",
       "      <td>0.771095</td>\n",
       "      <td>0.895578</td>\n",
       "    </tr>\n",
       "  </tbody>\n",
       "</table>\n",
       "</div>"
      ],
      "text/plain": [
       "                   A         B         C         D\n",
       "2013-01-01 -1.125114  2.131812  0.406216 -0.086927\n",
       "2013-01-05  2.028130  0.887846  0.316081  1.074601\n",
       "2013-01-04 -0.610102  0.194513 -0.751129 -0.999459\n",
       "2013-01-03  1.747897 -0.116592 -1.051322  0.882318\n",
       "2013-01-06  0.216414 -0.685370  0.355004 -0.358879\n",
       "2013-01-02 -0.616888 -1.230847  0.771095  0.895578"
      ]
     },
     "execution_count": 149,
     "metadata": {},
     "output_type": "execute_result"
    }
   ],
   "source": [
    "df"
   ]
  },
  {
   "cell_type": "code",
   "execution_count": 150,
   "id": "1f619a0a",
   "metadata": {},
   "outputs": [
    {
     "data": {
      "text/plain": [
       "2013-01-01    False\n",
       "2013-01-05     True\n",
       "2013-01-04    False\n",
       "2013-01-03     True\n",
       "2013-01-06     True\n",
       "2013-01-02    False\n",
       "Name: A, dtype: bool"
      ]
     },
     "execution_count": 150,
     "metadata": {},
     "output_type": "execute_result"
    }
   ],
   "source": [
    "# A 컬럼에서 양수만 선택\n",
    "df[\"A\"] > 0"
   ]
  },
  {
   "cell_type": "code",
   "execution_count": 151,
   "id": "46122e84",
   "metadata": {},
   "outputs": [
    {
     "data": {
      "text/html": [
       "<div>\n",
       "<style scoped>\n",
       "    .dataframe tbody tr th:only-of-type {\n",
       "        vertical-align: middle;\n",
       "    }\n",
       "\n",
       "    .dataframe tbody tr th {\n",
       "        vertical-align: top;\n",
       "    }\n",
       "\n",
       "    .dataframe thead th {\n",
       "        text-align: right;\n",
       "    }\n",
       "</style>\n",
       "<table border=\"1\" class=\"dataframe\">\n",
       "  <thead>\n",
       "    <tr style=\"text-align: right;\">\n",
       "      <th></th>\n",
       "      <th>A</th>\n",
       "      <th>B</th>\n",
       "      <th>C</th>\n",
       "      <th>D</th>\n",
       "    </tr>\n",
       "  </thead>\n",
       "  <tbody>\n",
       "    <tr>\n",
       "      <th>2013-01-05</th>\n",
       "      <td>2.028130</td>\n",
       "      <td>0.887846</td>\n",
       "      <td>0.316081</td>\n",
       "      <td>1.074601</td>\n",
       "    </tr>\n",
       "    <tr>\n",
       "      <th>2013-01-03</th>\n",
       "      <td>1.747897</td>\n",
       "      <td>-0.116592</td>\n",
       "      <td>-1.051322</td>\n",
       "      <td>0.882318</td>\n",
       "    </tr>\n",
       "    <tr>\n",
       "      <th>2013-01-06</th>\n",
       "      <td>0.216414</td>\n",
       "      <td>-0.685370</td>\n",
       "      <td>0.355004</td>\n",
       "      <td>-0.358879</td>\n",
       "    </tr>\n",
       "  </tbody>\n",
       "</table>\n",
       "</div>"
      ],
      "text/plain": [
       "                   A         B         C         D\n",
       "2013-01-05  2.028130  0.887846  0.316081  1.074601\n",
       "2013-01-03  1.747897 -0.116592 -1.051322  0.882318\n",
       "2013-01-06  0.216414 -0.685370  0.355004 -0.358879"
      ]
     },
     "execution_count": 151,
     "metadata": {},
     "output_type": "execute_result"
    }
   ],
   "source": [
    "df[df[\"A\"] > 0]"
   ]
  },
  {
   "cell_type": "code",
   "execution_count": 152,
   "id": "8fc5a21f",
   "metadata": {},
   "outputs": [
    {
     "data": {
      "text/html": [
       "<div>\n",
       "<style scoped>\n",
       "    .dataframe tbody tr th:only-of-type {\n",
       "        vertical-align: middle;\n",
       "    }\n",
       "\n",
       "    .dataframe tbody tr th {\n",
       "        vertical-align: top;\n",
       "    }\n",
       "\n",
       "    .dataframe thead th {\n",
       "        text-align: right;\n",
       "    }\n",
       "</style>\n",
       "<table border=\"1\" class=\"dataframe\">\n",
       "  <thead>\n",
       "    <tr style=\"text-align: right;\">\n",
       "      <th></th>\n",
       "      <th>A</th>\n",
       "      <th>B</th>\n",
       "      <th>C</th>\n",
       "      <th>D</th>\n",
       "    </tr>\n",
       "  </thead>\n",
       "  <tbody>\n",
       "    <tr>\n",
       "      <th>2013-01-01</th>\n",
       "      <td>NaN</td>\n",
       "      <td>2.131812</td>\n",
       "      <td>0.406216</td>\n",
       "      <td>NaN</td>\n",
       "    </tr>\n",
       "    <tr>\n",
       "      <th>2013-01-05</th>\n",
       "      <td>2.028130</td>\n",
       "      <td>0.887846</td>\n",
       "      <td>0.316081</td>\n",
       "      <td>1.074601</td>\n",
       "    </tr>\n",
       "    <tr>\n",
       "      <th>2013-01-04</th>\n",
       "      <td>NaN</td>\n",
       "      <td>0.194513</td>\n",
       "      <td>NaN</td>\n",
       "      <td>NaN</td>\n",
       "    </tr>\n",
       "    <tr>\n",
       "      <th>2013-01-03</th>\n",
       "      <td>1.747897</td>\n",
       "      <td>NaN</td>\n",
       "      <td>NaN</td>\n",
       "      <td>0.882318</td>\n",
       "    </tr>\n",
       "    <tr>\n",
       "      <th>2013-01-06</th>\n",
       "      <td>0.216414</td>\n",
       "      <td>NaN</td>\n",
       "      <td>0.355004</td>\n",
       "      <td>NaN</td>\n",
       "    </tr>\n",
       "    <tr>\n",
       "      <th>2013-01-02</th>\n",
       "      <td>NaN</td>\n",
       "      <td>NaN</td>\n",
       "      <td>0.771095</td>\n",
       "      <td>0.895578</td>\n",
       "    </tr>\n",
       "  </tbody>\n",
       "</table>\n",
       "</div>"
      ],
      "text/plain": [
       "                   A         B         C         D\n",
       "2013-01-01       NaN  2.131812  0.406216       NaN\n",
       "2013-01-05  2.028130  0.887846  0.316081  1.074601\n",
       "2013-01-04       NaN  0.194513       NaN       NaN\n",
       "2013-01-03  1.747897       NaN       NaN  0.882318\n",
       "2013-01-06  0.216414       NaN  0.355004       NaN\n",
       "2013-01-02       NaN       NaN  0.771095  0.895578"
      ]
     },
     "execution_count": 152,
     "metadata": {},
     "output_type": "execute_result"
    }
   ],
   "source": [
    "df[df > 0]"
   ]
  },
  {
   "cell_type": "markdown",
   "id": "38f8976c",
   "metadata": {},
   "source": [
    "- NaN : Not a Number"
   ]
  },
  {
   "cell_type": "markdown",
   "id": "506491a8",
   "metadata": {},
   "source": [
    "### 컬럼 추가\n",
    "- 기존 컬럼이 없으면 추가\n",
    "- 기존 컬럼이 있으면 수정"
   ]
  },
  {
   "cell_type": "code",
   "execution_count": 153,
   "id": "f06c41cb",
   "metadata": {},
   "outputs": [
    {
     "data": {
      "text/html": [
       "<div>\n",
       "<style scoped>\n",
       "    .dataframe tbody tr th:only-of-type {\n",
       "        vertical-align: middle;\n",
       "    }\n",
       "\n",
       "    .dataframe tbody tr th {\n",
       "        vertical-align: top;\n",
       "    }\n",
       "\n",
       "    .dataframe thead th {\n",
       "        text-align: right;\n",
       "    }\n",
       "</style>\n",
       "<table border=\"1\" class=\"dataframe\">\n",
       "  <thead>\n",
       "    <tr style=\"text-align: right;\">\n",
       "      <th></th>\n",
       "      <th>A</th>\n",
       "      <th>B</th>\n",
       "      <th>C</th>\n",
       "      <th>D</th>\n",
       "    </tr>\n",
       "  </thead>\n",
       "  <tbody>\n",
       "    <tr>\n",
       "      <th>2013-01-01</th>\n",
       "      <td>-1.125114</td>\n",
       "      <td>2.131812</td>\n",
       "      <td>0.406216</td>\n",
       "      <td>-0.086927</td>\n",
       "    </tr>\n",
       "    <tr>\n",
       "      <th>2013-01-05</th>\n",
       "      <td>2.028130</td>\n",
       "      <td>0.887846</td>\n",
       "      <td>0.316081</td>\n",
       "      <td>1.074601</td>\n",
       "    </tr>\n",
       "    <tr>\n",
       "      <th>2013-01-04</th>\n",
       "      <td>-0.610102</td>\n",
       "      <td>0.194513</td>\n",
       "      <td>-0.751129</td>\n",
       "      <td>-0.999459</td>\n",
       "    </tr>\n",
       "    <tr>\n",
       "      <th>2013-01-03</th>\n",
       "      <td>1.747897</td>\n",
       "      <td>-0.116592</td>\n",
       "      <td>-1.051322</td>\n",
       "      <td>0.882318</td>\n",
       "    </tr>\n",
       "    <tr>\n",
       "      <th>2013-01-06</th>\n",
       "      <td>0.216414</td>\n",
       "      <td>-0.685370</td>\n",
       "      <td>0.355004</td>\n",
       "      <td>-0.358879</td>\n",
       "    </tr>\n",
       "    <tr>\n",
       "      <th>2013-01-02</th>\n",
       "      <td>-0.616888</td>\n",
       "      <td>-1.230847</td>\n",
       "      <td>0.771095</td>\n",
       "      <td>0.895578</td>\n",
       "    </tr>\n",
       "  </tbody>\n",
       "</table>\n",
       "</div>"
      ],
      "text/plain": [
       "                   A         B         C         D\n",
       "2013-01-01 -1.125114  2.131812  0.406216 -0.086927\n",
       "2013-01-05  2.028130  0.887846  0.316081  1.074601\n",
       "2013-01-04 -0.610102  0.194513 -0.751129 -0.999459\n",
       "2013-01-03  1.747897 -0.116592 -1.051322  0.882318\n",
       "2013-01-06  0.216414 -0.685370  0.355004 -0.358879\n",
       "2013-01-02 -0.616888 -1.230847  0.771095  0.895578"
      ]
     },
     "execution_count": 153,
     "metadata": {},
     "output_type": "execute_result"
    }
   ],
   "source": [
    "df"
   ]
  },
  {
   "cell_type": "code",
   "execution_count": 160,
   "id": "eed3494b",
   "metadata": {},
   "outputs": [
    {
     "data": {
      "text/html": [
       "<div>\n",
       "<style scoped>\n",
       "    .dataframe tbody tr th:only-of-type {\n",
       "        vertical-align: middle;\n",
       "    }\n",
       "\n",
       "    .dataframe tbody tr th {\n",
       "        vertical-align: top;\n",
       "    }\n",
       "\n",
       "    .dataframe thead th {\n",
       "        text-align: right;\n",
       "    }\n",
       "</style>\n",
       "<table border=\"1\" class=\"dataframe\">\n",
       "  <thead>\n",
       "    <tr style=\"text-align: right;\">\n",
       "      <th></th>\n",
       "      <th>A</th>\n",
       "      <th>B</th>\n",
       "      <th>C</th>\n",
       "      <th>D</th>\n",
       "      <th>E</th>\n",
       "    </tr>\n",
       "  </thead>\n",
       "  <tbody>\n",
       "    <tr>\n",
       "      <th>2013-01-01</th>\n",
       "      <td>-1.125114</td>\n",
       "      <td>2.131812</td>\n",
       "      <td>0.406216</td>\n",
       "      <td>-0.086927</td>\n",
       "      <td>one</td>\n",
       "    </tr>\n",
       "    <tr>\n",
       "      <th>2013-01-05</th>\n",
       "      <td>2.028130</td>\n",
       "      <td>0.887846</td>\n",
       "      <td>0.316081</td>\n",
       "      <td>1.074601</td>\n",
       "      <td>one</td>\n",
       "    </tr>\n",
       "    <tr>\n",
       "      <th>2013-01-04</th>\n",
       "      <td>-0.610102</td>\n",
       "      <td>0.194513</td>\n",
       "      <td>-0.751129</td>\n",
       "      <td>-0.999459</td>\n",
       "      <td>two</td>\n",
       "    </tr>\n",
       "    <tr>\n",
       "      <th>2013-01-03</th>\n",
       "      <td>1.747897</td>\n",
       "      <td>-0.116592</td>\n",
       "      <td>-1.051322</td>\n",
       "      <td>0.882318</td>\n",
       "      <td>three</td>\n",
       "    </tr>\n",
       "    <tr>\n",
       "      <th>2013-01-06</th>\n",
       "      <td>0.216414</td>\n",
       "      <td>-0.685370</td>\n",
       "      <td>0.355004</td>\n",
       "      <td>-0.358879</td>\n",
       "      <td>four</td>\n",
       "    </tr>\n",
       "    <tr>\n",
       "      <th>2013-01-02</th>\n",
       "      <td>-0.616888</td>\n",
       "      <td>-1.230847</td>\n",
       "      <td>0.771095</td>\n",
       "      <td>0.895578</td>\n",
       "      <td>six</td>\n",
       "    </tr>\n",
       "  </tbody>\n",
       "</table>\n",
       "</div>"
      ],
      "text/plain": [
       "                   A         B         C         D      E\n",
       "2013-01-01 -1.125114  2.131812  0.406216 -0.086927    one\n",
       "2013-01-05  2.028130  0.887846  0.316081  1.074601    one\n",
       "2013-01-04 -0.610102  0.194513 -0.751129 -0.999459    two\n",
       "2013-01-03  1.747897 -0.116592 -1.051322  0.882318  three\n",
       "2013-01-06  0.216414 -0.685370  0.355004 -0.358879   four\n",
       "2013-01-02 -0.616888 -1.230847  0.771095  0.895578    six"
      ]
     },
     "execution_count": 160,
     "metadata": {},
     "output_type": "execute_result"
    }
   ],
   "source": [
    "df[\"E\"] = [\"one\", \"one\", \"two\", \"three\", \"four\", \"six\"]\n",
    "df"
   ]
  },
  {
   "cell_type": "markdown",
   "id": "b60b5ec8",
   "metadata": {},
   "source": [
    "- isin() : 특정 요소가 있는지 확인"
   ]
  },
  {
   "cell_type": "code",
   "execution_count": 161,
   "id": "bd5b3c1d",
   "metadata": {},
   "outputs": [
    {
     "data": {
      "text/plain": [
       "2013-01-01    False\n",
       "2013-01-05    False\n",
       "2013-01-04     True\n",
       "2013-01-03    False\n",
       "2013-01-06    False\n",
       "2013-01-02    False\n",
       "Name: E, dtype: bool"
      ]
     },
     "execution_count": 161,
     "metadata": {},
     "output_type": "execute_result"
    }
   ],
   "source": [
    "df[\"E\"].isin([\"two\"])"
   ]
  },
  {
   "cell_type": "code",
   "execution_count": 162,
   "id": "7b2355ed",
   "metadata": {},
   "outputs": [
    {
     "data": {
      "text/plain": [
       "2013-01-01    False\n",
       "2013-01-05    False\n",
       "2013-01-04     True\n",
       "2013-01-03    False\n",
       "2013-01-06    False\n",
       "2013-01-02    False\n",
       "Name: E, dtype: bool"
      ]
     },
     "execution_count": 162,
     "metadata": {},
     "output_type": "execute_result"
    }
   ],
   "source": [
    "df[\"E\"].isin([\"two\", \"five\"])"
   ]
  },
  {
   "cell_type": "code",
   "execution_count": 163,
   "id": "f2885684",
   "metadata": {},
   "outputs": [
    {
     "data": {
      "text/plain": [
       "2013-01-01    False\n",
       "2013-01-05    False\n",
       "2013-01-04     True\n",
       "2013-01-03     True\n",
       "2013-01-06    False\n",
       "2013-01-02    False\n",
       "Name: E, dtype: bool"
      ]
     },
     "execution_count": 163,
     "metadata": {},
     "output_type": "execute_result"
    }
   ],
   "source": [
    "df[\"E\"].isin([\"two\", \"five\", \"three\"])"
   ]
  },
  {
   "cell_type": "code",
   "execution_count": 164,
   "id": "3dedd9d4",
   "metadata": {},
   "outputs": [
    {
     "data": {
      "text/html": [
       "<div>\n",
       "<style scoped>\n",
       "    .dataframe tbody tr th:only-of-type {\n",
       "        vertical-align: middle;\n",
       "    }\n",
       "\n",
       "    .dataframe tbody tr th {\n",
       "        vertical-align: top;\n",
       "    }\n",
       "\n",
       "    .dataframe thead th {\n",
       "        text-align: right;\n",
       "    }\n",
       "</style>\n",
       "<table border=\"1\" class=\"dataframe\">\n",
       "  <thead>\n",
       "    <tr style=\"text-align: right;\">\n",
       "      <th></th>\n",
       "      <th>A</th>\n",
       "      <th>B</th>\n",
       "      <th>C</th>\n",
       "      <th>D</th>\n",
       "      <th>E</th>\n",
       "    </tr>\n",
       "  </thead>\n",
       "  <tbody>\n",
       "    <tr>\n",
       "      <th>2013-01-04</th>\n",
       "      <td>-0.610102</td>\n",
       "      <td>0.194513</td>\n",
       "      <td>-0.751129</td>\n",
       "      <td>-0.999459</td>\n",
       "      <td>two</td>\n",
       "    </tr>\n",
       "    <tr>\n",
       "      <th>2013-01-03</th>\n",
       "      <td>1.747897</td>\n",
       "      <td>-0.116592</td>\n",
       "      <td>-1.051322</td>\n",
       "      <td>0.882318</td>\n",
       "      <td>three</td>\n",
       "    </tr>\n",
       "  </tbody>\n",
       "</table>\n",
       "</div>"
      ],
      "text/plain": [
       "                   A         B         C         D      E\n",
       "2013-01-04 -0.610102  0.194513 -0.751129 -0.999459    two\n",
       "2013-01-03  1.747897 -0.116592 -1.051322  0.882318  three"
      ]
     },
     "execution_count": 164,
     "metadata": {},
     "output_type": "execute_result"
    }
   ],
   "source": [
    "df[df[\"E\"].isin([\"two\", \"five\", \"three\"])]"
   ]
  },
  {
   "cell_type": "markdown",
   "id": "09c8a38b",
   "metadata": {},
   "source": [
    "### 특정 컬럼 제거\n",
    "- del\n",
    "- drop"
   ]
  },
  {
   "cell_type": "code",
   "execution_count": 166,
   "id": "6ab6ea5a",
   "metadata": {},
   "outputs": [
    {
     "data": {
      "text/html": [
       "<div>\n",
       "<style scoped>\n",
       "    .dataframe tbody tr th:only-of-type {\n",
       "        vertical-align: middle;\n",
       "    }\n",
       "\n",
       "    .dataframe tbody tr th {\n",
       "        vertical-align: top;\n",
       "    }\n",
       "\n",
       "    .dataframe thead th {\n",
       "        text-align: right;\n",
       "    }\n",
       "</style>\n",
       "<table border=\"1\" class=\"dataframe\">\n",
       "  <thead>\n",
       "    <tr style=\"text-align: right;\">\n",
       "      <th></th>\n",
       "      <th>A</th>\n",
       "      <th>B</th>\n",
       "      <th>C</th>\n",
       "      <th>D</th>\n",
       "    </tr>\n",
       "  </thead>\n",
       "  <tbody>\n",
       "    <tr>\n",
       "      <th>2013-01-01</th>\n",
       "      <td>-1.125114</td>\n",
       "      <td>2.131812</td>\n",
       "      <td>0.406216</td>\n",
       "      <td>-0.086927</td>\n",
       "    </tr>\n",
       "    <tr>\n",
       "      <th>2013-01-05</th>\n",
       "      <td>2.028130</td>\n",
       "      <td>0.887846</td>\n",
       "      <td>0.316081</td>\n",
       "      <td>1.074601</td>\n",
       "    </tr>\n",
       "    <tr>\n",
       "      <th>2013-01-04</th>\n",
       "      <td>-0.610102</td>\n",
       "      <td>0.194513</td>\n",
       "      <td>-0.751129</td>\n",
       "      <td>-0.999459</td>\n",
       "    </tr>\n",
       "    <tr>\n",
       "      <th>2013-01-03</th>\n",
       "      <td>1.747897</td>\n",
       "      <td>-0.116592</td>\n",
       "      <td>-1.051322</td>\n",
       "      <td>0.882318</td>\n",
       "    </tr>\n",
       "    <tr>\n",
       "      <th>2013-01-06</th>\n",
       "      <td>0.216414</td>\n",
       "      <td>-0.685370</td>\n",
       "      <td>0.355004</td>\n",
       "      <td>-0.358879</td>\n",
       "    </tr>\n",
       "    <tr>\n",
       "      <th>2013-01-02</th>\n",
       "      <td>-0.616888</td>\n",
       "      <td>-1.230847</td>\n",
       "      <td>0.771095</td>\n",
       "      <td>0.895578</td>\n",
       "    </tr>\n",
       "  </tbody>\n",
       "</table>\n",
       "</div>"
      ],
      "text/plain": [
       "                   A         B         C         D\n",
       "2013-01-01 -1.125114  2.131812  0.406216 -0.086927\n",
       "2013-01-05  2.028130  0.887846  0.316081  1.074601\n",
       "2013-01-04 -0.610102  0.194513 -0.751129 -0.999459\n",
       "2013-01-03  1.747897 -0.116592 -1.051322  0.882318\n",
       "2013-01-06  0.216414 -0.685370  0.355004 -0.358879\n",
       "2013-01-02 -0.616888 -1.230847  0.771095  0.895578"
      ]
     },
     "execution_count": 166,
     "metadata": {},
     "output_type": "execute_result"
    }
   ],
   "source": [
    "del df[\"E\"]\n",
    "df"
   ]
  },
  {
   "cell_type": "code",
   "execution_count": 171,
   "id": "6f51c4a8",
   "metadata": {},
   "outputs": [
    {
     "data": {
      "text/html": [
       "<div>\n",
       "<style scoped>\n",
       "    .dataframe tbody tr th:only-of-type {\n",
       "        vertical-align: middle;\n",
       "    }\n",
       "\n",
       "    .dataframe tbody tr th {\n",
       "        vertical-align: top;\n",
       "    }\n",
       "\n",
       "    .dataframe thead th {\n",
       "        text-align: right;\n",
       "    }\n",
       "</style>\n",
       "<table border=\"1\" class=\"dataframe\">\n",
       "  <thead>\n",
       "    <tr style=\"text-align: right;\">\n",
       "      <th></th>\n",
       "      <th>A</th>\n",
       "      <th>B</th>\n",
       "      <th>C</th>\n",
       "    </tr>\n",
       "  </thead>\n",
       "  <tbody>\n",
       "    <tr>\n",
       "      <th>2013-01-01</th>\n",
       "      <td>-1.125114</td>\n",
       "      <td>2.131812</td>\n",
       "      <td>0.406216</td>\n",
       "    </tr>\n",
       "    <tr>\n",
       "      <th>2013-01-05</th>\n",
       "      <td>2.028130</td>\n",
       "      <td>0.887846</td>\n",
       "      <td>0.316081</td>\n",
       "    </tr>\n",
       "    <tr>\n",
       "      <th>2013-01-04</th>\n",
       "      <td>-0.610102</td>\n",
       "      <td>0.194513</td>\n",
       "      <td>-0.751129</td>\n",
       "    </tr>\n",
       "    <tr>\n",
       "      <th>2013-01-03</th>\n",
       "      <td>1.747897</td>\n",
       "      <td>-0.116592</td>\n",
       "      <td>-1.051322</td>\n",
       "    </tr>\n",
       "    <tr>\n",
       "      <th>2013-01-06</th>\n",
       "      <td>0.216414</td>\n",
       "      <td>-0.685370</td>\n",
       "      <td>0.355004</td>\n",
       "    </tr>\n",
       "    <tr>\n",
       "      <th>2013-01-02</th>\n",
       "      <td>-0.616888</td>\n",
       "      <td>-1.230847</td>\n",
       "      <td>0.771095</td>\n",
       "    </tr>\n",
       "  </tbody>\n",
       "</table>\n",
       "</div>"
      ],
      "text/plain": [
       "                   A         B         C\n",
       "2013-01-01 -1.125114  2.131812  0.406216\n",
       "2013-01-05  2.028130  0.887846  0.316081\n",
       "2013-01-04 -0.610102  0.194513 -0.751129\n",
       "2013-01-03  1.747897 -0.116592 -1.051322\n",
       "2013-01-06  0.216414 -0.685370  0.355004\n",
       "2013-01-02 -0.616888 -1.230847  0.771095"
      ]
     },
     "execution_count": 171,
     "metadata": {},
     "output_type": "execute_result"
    }
   ],
   "source": [
    "df.drop([\"D\"], axis = 1) # axis=0 -가로 / axis=1 - 세로"
   ]
  },
  {
   "cell_type": "code",
   "execution_count": 174,
   "id": "ba71c154",
   "metadata": {},
   "outputs": [
    {
     "data": {
      "text/html": [
       "<div>\n",
       "<style scoped>\n",
       "    .dataframe tbody tr th:only-of-type {\n",
       "        vertical-align: middle;\n",
       "    }\n",
       "\n",
       "    .dataframe tbody tr th {\n",
       "        vertical-align: top;\n",
       "    }\n",
       "\n",
       "    .dataframe thead th {\n",
       "        text-align: right;\n",
       "    }\n",
       "</style>\n",
       "<table border=\"1\" class=\"dataframe\">\n",
       "  <thead>\n",
       "    <tr style=\"text-align: right;\">\n",
       "      <th></th>\n",
       "      <th>A</th>\n",
       "      <th>B</th>\n",
       "      <th>C</th>\n",
       "      <th>D</th>\n",
       "    </tr>\n",
       "  </thead>\n",
       "  <tbody>\n",
       "    <tr>\n",
       "      <th>2013-01-01</th>\n",
       "      <td>-1.125114</td>\n",
       "      <td>2.131812</td>\n",
       "      <td>0.406216</td>\n",
       "      <td>-0.086927</td>\n",
       "    </tr>\n",
       "    <tr>\n",
       "      <th>2013-01-05</th>\n",
       "      <td>2.028130</td>\n",
       "      <td>0.887846</td>\n",
       "      <td>0.316081</td>\n",
       "      <td>1.074601</td>\n",
       "    </tr>\n",
       "    <tr>\n",
       "      <th>2013-01-03</th>\n",
       "      <td>1.747897</td>\n",
       "      <td>-0.116592</td>\n",
       "      <td>-1.051322</td>\n",
       "      <td>0.882318</td>\n",
       "    </tr>\n",
       "    <tr>\n",
       "      <th>2013-01-06</th>\n",
       "      <td>0.216414</td>\n",
       "      <td>-0.685370</td>\n",
       "      <td>0.355004</td>\n",
       "      <td>-0.358879</td>\n",
       "    </tr>\n",
       "    <tr>\n",
       "      <th>2013-01-02</th>\n",
       "      <td>-0.616888</td>\n",
       "      <td>-1.230847</td>\n",
       "      <td>0.771095</td>\n",
       "      <td>0.895578</td>\n",
       "    </tr>\n",
       "  </tbody>\n",
       "</table>\n",
       "</div>"
      ],
      "text/plain": [
       "                   A         B         C         D\n",
       "2013-01-01 -1.125114  2.131812  0.406216 -0.086927\n",
       "2013-01-05  2.028130  0.887846  0.316081  1.074601\n",
       "2013-01-03  1.747897 -0.116592 -1.051322  0.882318\n",
       "2013-01-06  0.216414 -0.685370  0.355004 -0.358879\n",
       "2013-01-02 -0.616888 -1.230847  0.771095  0.895578"
      ]
     },
     "execution_count": 174,
     "metadata": {},
     "output_type": "execute_result"
    }
   ],
   "source": [
    "df.drop([\"20130104\"])"
   ]
  },
  {
   "cell_type": "markdown",
   "id": "e053f206",
   "metadata": {},
   "source": [
    "### apply()"
   ]
  },
  {
   "cell_type": "code",
   "execution_count": 175,
   "id": "c2c0e0f7",
   "metadata": {},
   "outputs": [
    {
     "data": {
      "text/html": [
       "<div>\n",
       "<style scoped>\n",
       "    .dataframe tbody tr th:only-of-type {\n",
       "        vertical-align: middle;\n",
       "    }\n",
       "\n",
       "    .dataframe tbody tr th {\n",
       "        vertical-align: top;\n",
       "    }\n",
       "\n",
       "    .dataframe thead th {\n",
       "        text-align: right;\n",
       "    }\n",
       "</style>\n",
       "<table border=\"1\" class=\"dataframe\">\n",
       "  <thead>\n",
       "    <tr style=\"text-align: right;\">\n",
       "      <th></th>\n",
       "      <th>A</th>\n",
       "      <th>B</th>\n",
       "      <th>C</th>\n",
       "      <th>D</th>\n",
       "    </tr>\n",
       "  </thead>\n",
       "  <tbody>\n",
       "    <tr>\n",
       "      <th>2013-01-01</th>\n",
       "      <td>-1.125114</td>\n",
       "      <td>2.131812</td>\n",
       "      <td>0.406216</td>\n",
       "      <td>-0.086927</td>\n",
       "    </tr>\n",
       "    <tr>\n",
       "      <th>2013-01-05</th>\n",
       "      <td>2.028130</td>\n",
       "      <td>0.887846</td>\n",
       "      <td>0.316081</td>\n",
       "      <td>1.074601</td>\n",
       "    </tr>\n",
       "    <tr>\n",
       "      <th>2013-01-04</th>\n",
       "      <td>-0.610102</td>\n",
       "      <td>0.194513</td>\n",
       "      <td>-0.751129</td>\n",
       "      <td>-0.999459</td>\n",
       "    </tr>\n",
       "    <tr>\n",
       "      <th>2013-01-03</th>\n",
       "      <td>1.747897</td>\n",
       "      <td>-0.116592</td>\n",
       "      <td>-1.051322</td>\n",
       "      <td>0.882318</td>\n",
       "    </tr>\n",
       "    <tr>\n",
       "      <th>2013-01-06</th>\n",
       "      <td>0.216414</td>\n",
       "      <td>-0.685370</td>\n",
       "      <td>0.355004</td>\n",
       "      <td>-0.358879</td>\n",
       "    </tr>\n",
       "    <tr>\n",
       "      <th>2013-01-02</th>\n",
       "      <td>-0.616888</td>\n",
       "      <td>-1.230847</td>\n",
       "      <td>0.771095</td>\n",
       "      <td>0.895578</td>\n",
       "    </tr>\n",
       "  </tbody>\n",
       "</table>\n",
       "</div>"
      ],
      "text/plain": [
       "                   A         B         C         D\n",
       "2013-01-01 -1.125114  2.131812  0.406216 -0.086927\n",
       "2013-01-05  2.028130  0.887846  0.316081  1.074601\n",
       "2013-01-04 -0.610102  0.194513 -0.751129 -0.999459\n",
       "2013-01-03  1.747897 -0.116592 -1.051322  0.882318\n",
       "2013-01-06  0.216414 -0.685370  0.355004 -0.358879\n",
       "2013-01-02 -0.616888 -1.230847  0.771095  0.895578"
      ]
     },
     "execution_count": 175,
     "metadata": {},
     "output_type": "execute_result"
    }
   ],
   "source": [
    "df"
   ]
  },
  {
   "cell_type": "code",
   "execution_count": 176,
   "id": "c912a6c4",
   "metadata": {},
   "outputs": [
    {
     "data": {
      "text/plain": [
       "1.6403377163832855"
      ]
     },
     "execution_count": 176,
     "metadata": {},
     "output_type": "execute_result"
    }
   ],
   "source": [
    "df[\"A\"].apply(\"sum\")"
   ]
  },
  {
   "cell_type": "code",
   "execution_count": 177,
   "id": "40de336a",
   "metadata": {},
   "outputs": [
    {
     "data": {
      "text/plain": [
       "0.27338961939721423"
      ]
     },
     "execution_count": 177,
     "metadata": {},
     "output_type": "execute_result"
    }
   ],
   "source": [
    "df[\"A\"].apply(\"mean\")"
   ]
  },
  {
   "cell_type": "code",
   "execution_count": 178,
   "id": "b392a052",
   "metadata": {},
   "outputs": [
    {
     "data": {
      "text/plain": [
       "(-1.125114482270331, 2.0281301802503413)"
      ]
     },
     "execution_count": 178,
     "metadata": {},
     "output_type": "execute_result"
    }
   ],
   "source": [
    "df[\"A\"].apply(\"min\"), df[\"A\"].apply(\"max\")"
   ]
  },
  {
   "cell_type": "code",
   "execution_count": 180,
   "id": "42be88bf",
   "metadata": {},
   "outputs": [
    {
     "data": {
      "text/plain": [
       "A    1.640338\n",
       "D    1.407232\n",
       "dtype: float64"
      ]
     },
     "execution_count": 180,
     "metadata": {},
     "output_type": "execute_result"
    }
   ],
   "source": [
    "df[[\"A\", \"D\"]].apply(\"sum\")"
   ]
  },
  {
   "cell_type": "code",
   "execution_count": 181,
   "id": "40432d23",
   "metadata": {},
   "outputs": [
    {
     "data": {
      "text/plain": [
       "2013-01-01   -1.125114\n",
       "2013-01-05    2.028130\n",
       "2013-01-04   -0.610102\n",
       "2013-01-03    1.747897\n",
       "2013-01-06    0.216414\n",
       "2013-01-02   -0.616888\n",
       "Name: A, dtype: float64"
      ]
     },
     "execution_count": 181,
     "metadata": {},
     "output_type": "execute_result"
    }
   ],
   "source": [
    "df[\"A\"].apply(np.sum)"
   ]
  },
  {
   "cell_type": "code",
   "execution_count": 182,
   "id": "2adefbaf",
   "metadata": {},
   "outputs": [
    {
     "data": {
      "text/plain": [
       "2013-01-01   -1.125114\n",
       "2013-01-05    2.028130\n",
       "2013-01-04   -0.610102\n",
       "2013-01-03    1.747897\n",
       "2013-01-06    0.216414\n",
       "2013-01-02   -0.616888\n",
       "Name: A, dtype: float64"
      ]
     },
     "execution_count": 182,
     "metadata": {},
     "output_type": "execute_result"
    }
   ],
   "source": [
    "df[\"A\"].apply(np.mean)"
   ]
  },
  {
   "cell_type": "code",
   "execution_count": 183,
   "id": "0398b02f",
   "metadata": {},
   "outputs": [
    {
     "data": {
      "text/plain": [
       "2013-01-01    0.0\n",
       "2013-01-05    0.0\n",
       "2013-01-04    0.0\n",
       "2013-01-03    0.0\n",
       "2013-01-06    0.0\n",
       "2013-01-02    0.0\n",
       "Name: A, dtype: float64"
      ]
     },
     "execution_count": 183,
     "metadata": {},
     "output_type": "execute_result"
    }
   ],
   "source": [
    "df[\"A\"].apply(np.std) #표준편차"
   ]
  },
  {
   "cell_type": "code",
   "execution_count": 184,
   "id": "1c99a57a",
   "metadata": {},
   "outputs": [
    {
     "data": {
      "text/html": [
       "<div>\n",
       "<style scoped>\n",
       "    .dataframe tbody tr th:only-of-type {\n",
       "        vertical-align: middle;\n",
       "    }\n",
       "\n",
       "    .dataframe tbody tr th {\n",
       "        vertical-align: top;\n",
       "    }\n",
       "\n",
       "    .dataframe thead th {\n",
       "        text-align: right;\n",
       "    }\n",
       "</style>\n",
       "<table border=\"1\" class=\"dataframe\">\n",
       "  <thead>\n",
       "    <tr style=\"text-align: right;\">\n",
       "      <th></th>\n",
       "      <th>A</th>\n",
       "      <th>B</th>\n",
       "      <th>C</th>\n",
       "      <th>D</th>\n",
       "    </tr>\n",
       "  </thead>\n",
       "  <tbody>\n",
       "    <tr>\n",
       "      <th>2013-01-01</th>\n",
       "      <td>-1.125114</td>\n",
       "      <td>2.131812</td>\n",
       "      <td>0.406216</td>\n",
       "      <td>-0.086927</td>\n",
       "    </tr>\n",
       "    <tr>\n",
       "      <th>2013-01-05</th>\n",
       "      <td>2.028130</td>\n",
       "      <td>0.887846</td>\n",
       "      <td>0.316081</td>\n",
       "      <td>1.074601</td>\n",
       "    </tr>\n",
       "    <tr>\n",
       "      <th>2013-01-04</th>\n",
       "      <td>-0.610102</td>\n",
       "      <td>0.194513</td>\n",
       "      <td>-0.751129</td>\n",
       "      <td>-0.999459</td>\n",
       "    </tr>\n",
       "    <tr>\n",
       "      <th>2013-01-03</th>\n",
       "      <td>1.747897</td>\n",
       "      <td>-0.116592</td>\n",
       "      <td>-1.051322</td>\n",
       "      <td>0.882318</td>\n",
       "    </tr>\n",
       "    <tr>\n",
       "      <th>2013-01-06</th>\n",
       "      <td>0.216414</td>\n",
       "      <td>-0.685370</td>\n",
       "      <td>0.355004</td>\n",
       "      <td>-0.358879</td>\n",
       "    </tr>\n",
       "    <tr>\n",
       "      <th>2013-01-02</th>\n",
       "      <td>-0.616888</td>\n",
       "      <td>-1.230847</td>\n",
       "      <td>0.771095</td>\n",
       "      <td>0.895578</td>\n",
       "    </tr>\n",
       "  </tbody>\n",
       "</table>\n",
       "</div>"
      ],
      "text/plain": [
       "                   A         B         C         D\n",
       "2013-01-01 -1.125114  2.131812  0.406216 -0.086927\n",
       "2013-01-05  2.028130  0.887846  0.316081  1.074601\n",
       "2013-01-04 -0.610102  0.194513 -0.751129 -0.999459\n",
       "2013-01-03  1.747897 -0.116592 -1.051322  0.882318\n",
       "2013-01-06  0.216414 -0.685370  0.355004 -0.358879\n",
       "2013-01-02 -0.616888 -1.230847  0.771095  0.895578"
      ]
     },
     "execution_count": 184,
     "metadata": {},
     "output_type": "execute_result"
    }
   ],
   "source": [
    "df"
   ]
  },
  {
   "cell_type": "code",
   "execution_count": 187,
   "id": "ae6de0d5",
   "metadata": {},
   "outputs": [],
   "source": [
    "def addsub(num):\n",
    "    return \"+\" if num > 0 else \"-\""
   ]
  },
  {
   "cell_type": "code",
   "execution_count": 188,
   "id": "0f95d140",
   "metadata": {},
   "outputs": [
    {
     "data": {
      "text/plain": [
       "2013-01-01    -\n",
       "2013-01-05    +\n",
       "2013-01-04    -\n",
       "2013-01-03    +\n",
       "2013-01-06    +\n",
       "2013-01-02    -\n",
       "Name: A, dtype: object"
      ]
     },
     "execution_count": 188,
     "metadata": {},
     "output_type": "execute_result"
    }
   ],
   "source": [
    "df[\"A\"].apply(addsub) #함수를 만들어 넣을 수도 있음"
   ]
  },
  {
   "cell_type": "code",
   "execution_count": 189,
   "id": "4fc90bb0",
   "metadata": {},
   "outputs": [
    {
     "data": {
      "text/plain": [
       "2013-01-01    -\n",
       "2013-01-05    +\n",
       "2013-01-04    -\n",
       "2013-01-03    +\n",
       "2013-01-06    +\n",
       "2013-01-02    -\n",
       "Name: A, dtype: object"
      ]
     },
     "execution_count": 189,
     "metadata": {},
     "output_type": "execute_result"
    }
   ],
   "source": [
    "df[\"A\"].apply(lambda num : \"+\" if num > 0 else \"-\")"
   ]
  },
  {
   "cell_type": "code",
   "execution_count": null,
   "id": "7cc263c9",
   "metadata": {},
   "outputs": [],
   "source": []
  }
 ],
 "metadata": {
  "kernelspec": {
   "display_name": "Python 3 (ipykernel)",
   "language": "python",
   "name": "python3"
  },
  "language_info": {
   "codemirror_mode": {
    "name": "ipython",
    "version": 3
   },
   "file_extension": ".py",
   "mimetype": "text/x-python",
   "name": "python",
   "nbconvert_exporter": "python",
   "pygments_lexer": "ipython3",
   "version": "3.8.16"
  }
 },
 "nbformat": 4,
 "nbformat_minor": 5
}
